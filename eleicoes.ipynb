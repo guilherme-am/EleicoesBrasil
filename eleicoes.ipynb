{
  "nbformat": 4,
  "nbformat_minor": 0,
  "metadata": {
    "colab": {
      "name": "eleicoes.ipynb",
      "provenance": [],
      "collapsed_sections": [],
      "toc_visible": true,
      "authorship_tag": "ABX9TyNtJjJu4MRNhJppVQghLIUQ",
      "include_colab_link": true
    },
    "kernelspec": {
      "name": "python3",
      "display_name": "Python 3"
    }
  },
  "cells": [
    {
      "cell_type": "markdown",
      "metadata": {
        "id": "view-in-github",
        "colab_type": "text"
      },
      "source": [
        "<a href=\"https://colab.research.google.com/github/guilherme-am/EleicoesBrasil/blob/main/eleicoes.ipynb\" target=\"_parent\"><img src=\"https://colab.research.google.com/assets/colab-badge.svg\" alt=\"Open In Colab\"/></a>"
      ]
    },
    {
      "cell_type": "markdown",
      "metadata": {
        "id": "zBO6PyfeuZqf"
      },
      "source": [
        "# **Data Analysis from the Brazilian elections between 1998 and 2018**"
      ]
    },
    {
      "cell_type": "markdown",
      "metadata": {
        "id": "60B9W3Lbuw-2"
      },
      "source": [
        "## _**README**_\r\n",
        "\r\n",
        "- Este conjunto de dados é uma combinação do repositório oficial do TSE (Tribunal Superior Eleitoral) e do repositório do Banco Mundial sobre o Brasil.\r\n",
        " - Para efeitos deste estudo, somente foram analisados os dados entre os dois principais candidatos, na maioria das vezes, os dois restantes no 2º turno das eleições presidenciais.\r\n",
        "\r\n",
        "- ** O objetivo é observar e analisar diferenças e padrões entre as votações nos anos de 1998, 2002, 2006, 2010, 2014 e 2018 com os dados socioeconômicos do Brasil (do repositório do Banco Mundial) para aplicação de métodos estatísticos **, como teste ANOVA, Análise de Componentes Principais e previsões.\r\n",
        "\r\n",
        "- Todos os dados criados e carregados estão disponíveis no Notebook e no repositório do GitHub e devem ser inseridos no dataset.\r\n",
        "\r\n",
        "\r\n",
        "-  _**Observações**_:\r\n",
        "\r\n",
        " - _**Este dataset tem o único objetivo de estudo** e está em constante desenvolvimento e ainda não foi finalizado, métodos de previsões e Machine Learning ainda estão a ser implementados._ \r\n",
        " - _Os comentários inseridos ao ínicio das células de código podem ser relevantes para a correta visualização dos dados no trecho de código._ \r\n",
        " - Em algumas células, **caso elas tenham sido executadas mais de uma vez**, pode ser necessário deletar o arquivo .csv inserido na célula e fazer o upload novamente para o notebook para correta visualização dos dados. _Este processo pode ser realizado no menu esquerdo do Notebook onde uma pasta com os dados é apresentada._\r\n",
        "\r\n",
        "---\r\n",
        "- This dataset is a combination from the official TSE (Superior Electoral Court) repository and World Bank repository on Brazil.\r\n",
        "  - For the purposes of this study, data were only analyzed between the two main candidates, in most cases, the two remaining in the 2nd round of presidential elections.\r\n",
        "\r\n",
        "- **The objective is to observe and analyze differences and standards between the votes in the years of 1998, 2002, 2006, 2010, 2014 and 2018 with Brazilian Socioeconomics historical stats (from World Bank) to apply statistics methods**, such as ANOVA test, Principal Component Analysis and predictions.\r\n",
        "\r\n",
        "\r\n",
        "-  **_Observations:_**\r\n",
        "\r\n",
        " - _ ** This dataset has the unique purpose of study ** and is in constant development and has not yet been finalized, forecasting methods and Machine Learning are still being implemented._\r\n",
        " - _The comments inserted at the beginning of the code cells may be relevant for the correct visualization of the data in the code part._\r\n",
        " - In some cells, ** if they have been executed more than once **, it may be necessary to delete the .csv file inserted in the cell and upload it again to the notebook for correct data visualization. _This process can be done at the left side menu where a folder with the data is presented._\r\n",
        "\r\n",
        "---\r\n",
        "\r\n",
        "By Guilherme Moreira.\r\n",
        "\r\n",
        "---\r\n",
        "\r\n",
        "- **Data source:**\r\n",
        "- - http://english.tse.jus.br/\r\n",
        "- - https://www.tse.jus.br/eleicoes/estatisticas/estatisticas-eleitorais\r\n",
        "- - https://data.worldbank.org/country/brazil\r\n",
        "\r\n"
      ]
    },
    {
      "cell_type": "markdown",
      "metadata": {
        "id": "_gFBzNWwidY5"
      },
      "source": [
        "### Dados de todos candidatos x Presidentes Eleitos (1998-2014) \r\n",
        "---\r\n",
        "### Data of all candidates vs Presidents-elect (1998-2014)"
      ]
    },
    {
      "cell_type": "code",
      "metadata": {
        "id": "Q8f4WffIikWK"
      },
      "source": [
        "import pandas as pd\r\n",
        "import numpy as np\r\n",
        "\r\n",
        "df = pd.read_csv('eleicoes-brasil-presidente.csv')\r\n",
        "#df = pd.read_csv('perfil_eleitor_secao_2018_MG.csv', quotechar='\"', decimal=\",\")\r\n",
        "# https://www.shanelynn.ie/pandas-csv-error-error-tokenizing-data-c-error-eof-inside-string-starting-at-line/\r\n",
        "#df.to_csv('perfil_eleitor_secao_2018_MG.csv', sep=',', encoding = 'ISO-8859-1')\r\n",
        "df.head()\r\n",
        "df"
      ],
      "execution_count": null,
      "outputs": []
    },
    {
      "cell_type": "code",
      "metadata": {
        "id": "BUXViCmild_L"
      },
      "source": [
        "dfeleito = df[~df['desc_sit_tot_turno'].str.contains('NÃO ELEITO', na=False)]\r\n",
        "dfeleito.head()\r\n",
        "#df.eleito = df[eleito]\r\n",
        "print(dfeleito.shape)\r\n",
        "dfeleito[['ano_eleicao','descricao_ue','nome_candidato','sigla_partido','desc_sit_tot_turno','data_nascimento','numero_candidato','num_turno', 'descricao_sexo']]"
      ],
      "execution_count": null,
      "outputs": []
    },
    {
      "cell_type": "code",
      "metadata": {
        "id": "mgZDxeD3rSJ9"
      },
      "source": [
        "df_eleito = dfeleito[dfeleito['desc_sit_tot_turno'].str.contains('ELEITO',na=False)]\r\n",
        "df_eleito.head()\r\n",
        "#feleito = dfeleito[df_eleito]\r\n",
        "print(df_eleito.shape)\r\n",
        "df_eleito[['ano_eleicao','descricao_ue','nome_candidato','sigla_partido','desc_sit_tot_turno','data_nascimento','numero_candidato','num_turno', 'descricao_sexo']]"
      ],
      "execution_count": null,
      "outputs": []
    },
    {
      "cell_type": "markdown",
      "metadata": {
        "id": "nTQpaPCNLCxa"
      },
      "source": [
        "## 1. **1998 Electoral Data Analysis:**\r\n",
        "Neste trecho analisamos os dados eleitorais relacionados ao voto, separando-os por estado (UF) e divididos em 4 etapas:\r\n",
        "1. Importação e visualização dos dados gerais.\r\n",
        "2. Dataframe do Presidente eleito.\r\n",
        "3. Dataframe do candidato concorrente.\r\n",
        "4. Análise Comparativa por estado entre o candidato concorrente e o Presidente eleito. (concat())\r\n",
        "---\r\n",
        " In this part we analyze the electoral data related to the vote, separating them by state (UF) and divided into 4 stages:\r\n",
        "1. General data import and visualization.\r\n",
        "2. President-elect dataframe.\r\n",
        "3. Competing candidate dataframe.\r\n",
        "4. Competing candidate vs President elect Comparative analysis by state. (concat ())"
      ]
    },
    {
      "cell_type": "markdown",
      "metadata": {
        "id": "S28xLsCe5Gj9"
      },
      "source": [
        "1. Importação e visualização dos dados gerais // General data import and visualization."
      ]
    },
    {
      "cell_type": "code",
      "metadata": {
        "id": "Mia0OW_OLRSy"
      },
      "source": [
        "# Here, if you have runned  the cell twice or more, you may need to delete the .csv file and re-upload it.\r\n",
        "\r\n",
        "import pandas as pd\r\n",
        "import numpy as np\r\n",
        "import scipy\r\n",
        "\r\n",
        "df = pd.read_csv('Resultado_da_Eleicao_(Por_Uf)_1998.csv',quotechar='\"', decimal=\",\",sep=';', encoding= 'ISO-8859-1')\r\n",
        "#https://www.extendoffice.com/documents/excel/3341-excel-split-comma-separated-values.html\r\n",
        "df.to_csv('Resultado_da_Eleicao_(Por_Uf)_1998.csv', sep=',', encoding='ISO-8859-1', quotechar='\"', decimal='.')\r\n",
        "#df.columns = ['Cargo','UF','Partido','Nr.','Candidato','Votos Nominais','Situação','%/Válidos','Coligação']\r\n",
        "df"
      ],
      "execution_count": null,
      "outputs": []
    },
    {
      "cell_type": "markdown",
      "metadata": {
        "id": "0szTIh7r5Bxa"
      },
      "source": [
        "2. Dataframe do Presidente eleito // President-elect Dataframe"
      ]
    },
    {
      "cell_type": "code",
      "metadata": {
        "id": "P98yI6M7SWMz"
      },
      "source": [
        "dfFHC = df['Candidato'].str.contains('FERNANDO HENRIQUE CARDOSO')\r\n",
        "dfFHC.head()\r\n",
        "dfFHC = df[dfFHC]\r\n",
        "print('O número de estados em que FHC venceu : ', dfFHC.shape)\r\n",
        "dfFHC"
      ],
      "execution_count": null,
      "outputs": []
    },
    {
      "cell_type": "markdown",
      "metadata": {
        "id": "svu8tG9N5eLN"
      },
      "source": [
        "3. Dataframe do candidato concorrente // Competing candidate df"
      ]
    },
    {
      "cell_type": "code",
      "metadata": {
        "id": "2whWCJZOS9A-"
      },
      "source": [
        "dfLula98 = df['Candidato'].str.contains('LUIZ INACIO LULA DA SILVA')\r\n",
        "dfLula98.head()\r\n",
        "dfLula98 = df[dfLula98]\r\n",
        "print(dfLula98.shape)\r\n",
        "dfLula98"
      ],
      "execution_count": null,
      "outputs": []
    },
    {
      "cell_type": "markdown",
      "metadata": {
        "id": "bhwEpGmH5yyP"
      },
      "source": [
        "4. Presidente Eleito vs Candidato concorrente Análise Comparativa por estado (UF) //\r\n",
        "Competing candidate vs President elect Comparative analysis by state. (concat ()) \r\n",
        "\r\n",
        "*** _double click on the 'play' button to correctly visualization of the data._**\r\n"
      ]
    },
    {
      "cell_type": "code",
      "metadata": {
        "id": "w3NfsASKWP8q"
      },
      "source": [
        "# #double click on the 'play' button to correctly visualization of the data\r\n",
        "\r\n",
        "LULAxFHC = [dfFHC[['Votos Nominais','%/Válidos','UF']], dfLula98[['Votos Nominais','%/Válidos','UF']]]\r\n",
        "headers = [\"dfFHC\", \"dfLula98\"]\r\n",
        "df1998 = pd.concat(LULAxFHC, axis=1, keys=headers)\r\n",
        "dfFHC.reset_index(drop=True, inplace=True)\r\n",
        "dfLula98.reset_index(drop=True, inplace=True)\r\n",
        "#merged2002 = pd.merge(dfFHC, dfLula02, on=['UF'],how='inner')\r\n",
        "#merged2002.head()\r\n",
        "df1998"
      ],
      "execution_count": null,
      "outputs": []
    },
    {
      "cell_type": "markdown",
      "metadata": {
        "id": "NG4Fwiw0LHKd"
      },
      "source": [
        "## 2. **2002 Electoral Data Analysis:**\r\n",
        "\r\n",
        "1. Importação e visualização dos dados gerais.\r\n",
        "2. Dataframe do Presidente eleito.\r\n",
        "3. Dataframe do candidato concorrente.\r\n",
        "4. Análise Comparativa por estado entre o candidato concorrente e o Presidente eleito. (concat())\r\n",
        "5. Comparação entre candidatos 1998 x 2002 por UF.\r\n",
        "---\r\n",
        " \r\n",
        "1. General data import and visualization.\r\n",
        "2. President-elect dataframe.\r\n",
        "3. Competing candidate dataframe.\r\n",
        "4. Competing candidate vs President elect Comparative analysis by state. (concat ())\r\n",
        "5. Comparison between candidates 1998 vs 2002 by state."
      ]
    },
    {
      "cell_type": "markdown",
      "metadata": {
        "id": "kv2km_MN6xn5"
      },
      "source": [
        "1. Importação e visualização dos dados gerais // General data import and visualization."
      ]
    },
    {
      "cell_type": "code",
      "metadata": {
        "id": "z8mJtwlxanEg"
      },
      "source": [
        "# Here, if you have runned  the cell twice or more, you may need to delete the .csv file and re-upload it.\r\n",
        "\r\n",
        "import pandas as pd\r\n",
        "import numpy as np\r\n",
        "import scipy\r\n",
        "\r\n",
        "df = pd.read_csv('Resultado_da_Eleicao_(Por_Uf)_2002.csv',quotechar='\"', decimal=\",\",sep=';', encoding= 'ISO-8859-1')\r\n",
        "#https://www.extendoffice.com/documents/excel/3341-excel-split-comma-separated-values.html\r\n",
        "df.to_csv('Resultado_da_Eleicao_(Por_Uf)_2002.csv', sep=',', encoding='ISO-8859-1', quotechar='\"', decimal='.')\r\n",
        "#df.columns = ['Cargo','UF','Partido','Nr.','Candidato','Votos Nominais','Situação','%/Válidos','Coligação']\r\n",
        "df"
      ],
      "execution_count": null,
      "outputs": []
    },
    {
      "cell_type": "markdown",
      "metadata": {
        "id": "9p68Fq4M6_gN"
      },
      "source": [
        "2. Dataframe do Presidente eleito // President-elect dataframe."
      ]
    },
    {
      "cell_type": "code",
      "metadata": {
        "id": "9aHd8uHQjgdw"
      },
      "source": [
        "dfLula02 = df['Candidato'].str.contains('LUIZ INACIO LULA DA SILVA')\r\n",
        "dfLula02.head()\r\n",
        "dfLula02 = df[dfLula02]\r\n",
        "print(dfLula02.shape)\r\n",
        "dfLula02"
      ],
      "execution_count": null,
      "outputs": []
    },
    {
      "cell_type": "markdown",
      "metadata": {
        "id": "bBN7L4Xe7JpW"
      },
      "source": [
        "3. Candidato concorrente df // Competing candidate dataframe."
      ]
    },
    {
      "cell_type": "code",
      "metadata": {
        "id": "MpaLpywkn-hI"
      },
      "source": [
        "dfSerra = df['Candidato'].str.contains('JOSÉ SERRA')\r\n",
        "dfSerra.head()\r\n",
        "dfSerra = df[dfSerra]\r\n",
        "dfSerra.shape\r\n",
        "dfSerra"
      ],
      "execution_count": null,
      "outputs": []
    },
    {
      "cell_type": "markdown",
      "metadata": {
        "id": "_HBeoNkI7SkM"
      },
      "source": [
        "4. Análise Comparativa por estado entre o candidato concorrente e o Presidente eleito.\r\n",
        "//\r\n",
        "Competing candidate vs President elect Comparative analysis by state.\r\n",
        "\r\n",
        "*** _double click on the 'play' (run) button to correctly visualization of the data._**\r\n",
        "\r\n"
      ]
    },
    {
      "cell_type": "code",
      "metadata": {
        "id": "79BHt1BHjttQ"
      },
      "source": [
        "#double click on the 'play' (run) button to correctly visualization of the data.\r\n",
        "\r\n",
        "LULAxSerra = [dfSerra[['Votos Nominais','%/Válidos','UF']], dfLula02[['Votos Nominais','%/Válidos','UF']]]\r\n",
        "headers = [\"dfSerra\", \"dfLula02\"]\r\n",
        "df2002 = pd.concat(LULAxSerra, axis=1, keys=headers)\r\n",
        "dfSerra.reset_index(drop=True, inplace=True)\r\n",
        "dfLula02.reset_index(drop=True, inplace=True)\r\n",
        "\r\n",
        "df2002"
      ],
      "execution_count": null,
      "outputs": []
    },
    {
      "cell_type": "markdown",
      "metadata": {
        "id": "l0iO8ei98I-o"
      },
      "source": [
        "5. Comparação de votos por UF entre os candidatos 1998 x 2002\r\n",
        "//\r\n",
        "Comparison between candidates 1998 vs 2002 by state.\r\n",
        "\r\n",
        "- *** _double click on the 'play' (run) button to correctly visualization of the data._**"
      ]
    },
    {
      "cell_type": "code",
      "metadata": {
        "id": "UpBmbSF2kf_o"
      },
      "source": [
        "#double click on the 'play' (run) button to correctly visualization of the data.\r\n",
        "\r\n",
        "df98x02 = [df1998[['dfFHC','dfLula98']], df2002[['dfSerra','dfLula02']]]\r\n",
        "headers = [\"df1998\", \"df2002\"]\r\n",
        "df98x02 = pd.concat(df98x02, axis=1, keys=headers)\r\n",
        "df1998.reset_index(drop=True, inplace=True)\r\n",
        "df2002.reset_index(drop=True, inplace=True)\r\n",
        "\r\n",
        "df98x02"
      ],
      "execution_count": null,
      "outputs": []
    },
    {
      "cell_type": "markdown",
      "metadata": {
        "id": "zGxxPzK_kZk7"
      },
      "source": [
        "#Aplicando método ANOVA às eleições 1998 x 2002 // applying one-way ANOVA test between 1998 and 2002:\r\n",
        "\r\n",
        "- Primeiro geramos uma tabela retangular somente com os dados de votos nominais recebidos por cada Candidato.\r\n",
        "- Em seguida aplicamos os seguintes cálculos:\r\n",
        "  1. Compute the grand mean of the matrix\r\n",
        "  2. Compute the mean for each group\r\n",
        "  3. Compute the Total Sum of Squares SST\r\n",
        "  4. Compute the Sum of Squares Within groups SSW\r\n",
        "  5. Compute the Sum of Squares Between groups SSB\r\n",
        "  6. Degrees of freedom for the three sums of squares\r\n",
        "  7. Compute the F-statistic"
      ]
    },
    {
      "cell_type": "markdown",
      "metadata": {
        "id": "KqZztDC181Yn"
      },
      "source": [
        "Separando o número de votos por estado para aplicação do ANOVA. // Separating only number of votes per state for ANOVA initiation.\r\n",
        "\r\n",
        "*** _double click on the 'play' (run) button to correctly visualization of the data._**"
      ]
    },
    {
      "cell_type": "code",
      "metadata": {
        "id": "4mgX2heopqOi"
      },
      "source": [
        "#double click on the 'play' (run) button to correctly visualization of the data.\r\n",
        "\r\n",
        "dfVotos9802 = [dfFHC['Votos Nominais'],dfLula98['Votos Nominais'],dfSerra['Votos Nominais'],dfLula02['Votos Nominais']]\r\n",
        "result_98X02 = pd.concat(dfVotos9802, join='outer', axis=1, keys=headers).fillna('void')\r\n",
        "headers =  [\"Votos FHC 98\", \"Votos Lula 98\", \"Votos Serra 02\", \"Votos Lula 02\"]\r\n",
        "result_98X02.apply(lambda x: x.str.replace(',','.'))\r\n",
        "result_98X02 = result_98X02.stack().str.replace(',','.').unstack()\r\n",
        "result_98X02 = result_98X02.stack().str.replace('.','').unstack()\r\n",
        "result_98X02 = result_98X02.astype(np.float64)\r\n",
        "result_98X02"
      ],
      "execution_count": null,
      "outputs": []
    },
    {
      "cell_type": "markdown",
      "metadata": {
        "id": "EoVyXOYqs87w"
      },
      "source": [
        "1. Compute the grand mean of the matrix:"
      ]
    },
    {
      "cell_type": "code",
      "metadata": {
        "id": "KJ-Uaxfcs8fe"
      },
      "source": [
        "# Data manipulation\r\n",
        "import pandas as pd\r\n",
        "import numpy as np\r\n",
        "\r\n",
        "# Options for pandas\r\n",
        "pd.options.display.max_columns = 50\r\n",
        "pd.options.display.max_rows = 30\r\n",
        "\r\n",
        "import matplotlib.pyplot as plt\r\n",
        "import seaborn as sns\r\n",
        "\r\n",
        "from scipy.stats import f_oneway"
      ],
      "execution_count": 21,
      "outputs": []
    },
    {
      "cell_type": "code",
      "metadata": {
        "colab": {
          "base_uri": "https://localhost:8080/"
        },
        "id": "XwTrOqkbtIPM",
        "outputId": "265bb577-cb1b-49fd-ab91-b0a1c551826b"
      },
      "source": [
        "#GRAND MEAN:\r\n",
        "grand_mean = np.array(result_98X02).mean()\r\n",
        "print('Grand Mean = ', grand_mean)"
      ],
      "execution_count": 22,
      "outputs": [
        {
          "output_type": "stream",
          "text": [
            "Grand Mean =  1281925.857142857\n"
          ],
          "name": "stdout"
        }
      ]
    },
    {
      "cell_type": "markdown",
      "metadata": {
        "id": "q_f134XgwqAb"
      },
      "source": [
        "2. Compute the mean for each group"
      ]
    },
    {
      "cell_type": "code",
      "metadata": {
        "colab": {
          "base_uri": "https://localhost:8080/"
        },
        "id": "qUMBDoqrwwxj",
        "outputId": "7208de97-36b5-4f04-e5ab-66c9c4d46da9"
      },
      "source": [
        "group_means = result_98X02.loc[:,'Votos FHC 98':'Votos Lula 02'].mean()\r\n",
        "group_means"
      ],
      "execution_count": 23,
      "outputs": [
        {
          "output_type": "execute_result",
          "data": {
            "text/plain": [
              "Votos FHC 98      1.283442e+06\n",
              "Votos Lula 98     7.669718e+05\n",
              "Votos Serra 02    1.191812e+06\n",
              "Votos Lula 02     1.885477e+06\n",
              "dtype: float64"
            ]
          },
          "metadata": {
            "tags": []
          },
          "execution_count": 23
        }
      ]
    },
    {
      "cell_type": "markdown",
      "metadata": {
        "id": "tIgShOelxJ1I"
      },
      "source": [
        "3. Compute the Total Sum of Squares SST"
      ]
    },
    {
      "cell_type": "code",
      "metadata": {
        "colab": {
          "base_uri": "https://localhost:8080/"
        },
        "id": "LqHgfLD7xQgf",
        "outputId": "e40eddae-a357-4018-c20f-0449342a027c"
      },
      "source": [
        "total_sum_squares = ((result_98X02.loc[:,'Votos FHC 98':'Votos Lula 02'] - grand_mean)**2).sum().sum() # Your code here\r\n",
        "total_sum_squares"
      ],
      "execution_count": null,
      "outputs": [
        {
          "output_type": "execute_result",
          "data": {
            "text/plain": [
              "397639966013597.75"
            ]
          },
          "metadata": {
            "tags": []
          },
          "execution_count": 25
        }
      ]
    },
    {
      "cell_type": "markdown",
      "metadata": {
        "id": "LiZRg9K4xi3G"
      },
      "source": [
        "4. Compute the Sum of Squares Within groups SSW"
      ]
    },
    {
      "cell_type": "code",
      "metadata": {
        "id": "SE6azkKzxohi"
      },
      "source": [
        "within_group_sum_squares = (((result_98X02['Votos FHC 98'] - result_98X02['Votos FHC 98'].mean())**2) +\r\n",
        "\t\t\t\t\t\t\t\t\t\t\t\t\t ((result_98X02['Votos Lula 98'] - result_98X02['Votos Lula 98'].mean())**2) +\r\n",
        "                           ((result_98X02['Votos Serra 02'] - result_98X02['Votos Serra 02'].mean())**2) +\r\n",
        "\t\t\t\t\t\t\t\t\t\t\t\t\t ((result_98X02['Votos Lula 02'] - result_98X02['Votos Lula 02'].mean())**2)).sum()# Your code here\r\n",
        "within_group_sum_squares"
      ],
      "execution_count": null,
      "outputs": []
    },
    {
      "cell_type": "markdown",
      "metadata": {
        "id": "z7mio1seyG0O"
      },
      "source": [
        "5. Compute the Sum of Squares Between groups SSB\r\n",
        "\r\n"
      ]
    },
    {
      "cell_type": "code",
      "metadata": {
        "colab": {
          "base_uri": "https://localhost:8080/"
        },
        "id": "CgBIEcxYyNpV",
        "outputId": "438995a1-64ac-4a11-bf79-5d9269d33b8f"
      },
      "source": [
        "between_group_sum_squares = (((group_means - grand_mean)**2)*28).sum()# Your code here\r\n",
        "# temos 28 linhas na df= number of observations per group\r\n",
        "#, então multiplicamos a diferença de group_means e grand_mean por n=28\r\n",
        "between_group_sum_squares"
      ],
      "execution_count": null,
      "outputs": [
        {
          "output_type": "execute_result",
          "data": {
            "text/plain": [
              "17852093646998.496"
            ]
          },
          "metadata": {
            "tags": []
          },
          "execution_count": 27
        }
      ]
    },
    {
      "cell_type": "markdown",
      "metadata": {
        "id": "XOo5T3Lgylp7"
      },
      "source": [
        "The sum of the Withing Group Sum of Squares with the Between Group Sum of Squares equals the Total Sum of Squares:"
      ]
    },
    {
      "cell_type": "code",
      "metadata": {
        "colab": {
          "base_uri": "https://localhost:8080/"
        },
        "id": "j3dqeFrRykwG",
        "outputId": "d203b698-50a7-4c30-bd5e-d5c295a268dd"
      },
      "source": [
        "within_group_sum_squares + between_group_sum_squares"
      ],
      "execution_count": null,
      "outputs": [
        {
          "output_type": "execute_result",
          "data": {
            "text/plain": [
              "397639966013597.75"
            ]
          },
          "metadata": {
            "tags": []
          },
          "execution_count": 28
        }
      ]
    },
    {
      "cell_type": "markdown",
      "metadata": {
        "id": "4XliOPnZyaM9"
      },
      "source": [
        "6. Degrees of freedom for the three sums of squares"
      ]
    },
    {
      "cell_type": "code",
      "metadata": {
        "colab": {
          "base_uri": "https://localhost:8080/"
        },
        "id": "pyBUyTDvytFv",
        "outputId": "d788b429-16ec-42da-a14a-3a05bc044e2d"
      },
      "source": [
        "df_between_group = len(result_98X02.columns) - 1 # Your code here\r\n",
        "# df_between_group = m - 1\r\n",
        "df_between_group"
      ],
      "execution_count": null,
      "outputs": [
        {
          "output_type": "execute_result",
          "data": {
            "text/plain": [
              "3"
            ]
          },
          "metadata": {
            "tags": []
          },
          "execution_count": 29
        }
      ]
    },
    {
      "cell_type": "code",
      "metadata": {
        "colab": {
          "base_uri": "https://localhost:8080/"
        },
        "id": "8SUQh2NuzEne",
        "outputId": "016d9c20-7d3d-4f7f-cd0c-4236e13f52c5"
      },
      "source": [
        "#######################\r\n",
        "#within groups:\r\n",
        "df_within_group = (len(result_98X02.columns)*(len(result_98X02)-1))# Your code here\r\n",
        "# df_within_group = m(n-1); len(df.columns) = m colunas; len(df) = n rows).\r\n",
        "df_within_group"
      ],
      "execution_count": null,
      "outputs": [
        {
          "output_type": "execute_result",
          "data": {
            "text/plain": [
              "108"
            ]
          },
          "metadata": {
            "tags": []
          },
          "execution_count": 30
        }
      ]
    },
    {
      "cell_type": "markdown",
      "metadata": {
        "id": "DKCmfQbFzT4E"
      },
      "source": [
        "7. Compute the F-statistic"
      ]
    },
    {
      "cell_type": "code",
      "metadata": {
        "colab": {
          "base_uri": "https://localhost:8080/"
        },
        "id": "iIhS4Ep0zVwO",
        "outputId": "c9663910-66f9-4b70-b191-bba32199d84c"
      },
      "source": [
        "f_stat = ((between_group_sum_squares /\r\n",
        "           df_between_group) /\r\n",
        "          (within_group_sum_squares /\r\n",
        "           df_within_group))\r\n",
        "f_stat"
      ],
      "execution_count": null,
      "outputs": [
        {
          "output_type": "execute_result",
          "data": {
            "text/plain": [
              "1.6921956124801905"
            ]
          },
          "metadata": {
            "tags": []
          },
          "execution_count": 31
        }
      ]
    },
    {
      "cell_type": "code",
      "metadata": {
        "id": "lTc4QHEA0dy5",
        "colab": {
          "base_uri": "https://localhost:8080/"
        },
        "outputId": "34693020-b2ed-4de5-b3d6-0a130937279f"
      },
      "source": [
        "#or using\r\n",
        "from scipy.stats import f_oneway\r\n",
        "#f_oneway(df['x1'],df['x2'],df['x3'],df['x4'])\r\n",
        "#or\r\n",
        "f_oneway(*[result_98X02[x] for x in result_98X02.columns])"
      ],
      "execution_count": null,
      "outputs": [
        {
          "output_type": "execute_result",
          "data": {
            "text/plain": [
              "F_onewayResult(statistic=1.6921956124801913, pvalue=0.17299637093296988)"
            ]
          },
          "metadata": {
            "tags": []
          },
          "execution_count": 32
        }
      ]
    },
    {
      "cell_type": "code",
      "metadata": {
        "id": "phVEwxJg0fw0"
      },
      "source": [
        "result_98X02.hist()"
      ],
      "execution_count": null,
      "outputs": []
    },
    {
      "cell_type": "code",
      "metadata": {
        "id": "hRSiS83F0nAK"
      },
      "source": [
        "result_98X02.boxplot()"
      ],
      "execution_count": null,
      "outputs": []
    },
    {
      "cell_type": "markdown",
      "metadata": {
        "id": "y0-qDDLtLJsK"
      },
      "source": [
        "## 3. 2006 Electoral Data Analysis:**\r\n",
        "\r\n",
        "1. Importação e visualização dos dados gerais.\r\n",
        "2. Dataframe do Presidente eleito.\r\n",
        "3. Dataframe do candidato concorrente.\r\n",
        "4. Análise Comparativa por estado entre o candidato concorrente e o Presidente eleito. (concat())\r\n",
        "5. Comparação entre candidatos 2006 x 2002 por UF.\r\n",
        "---\r\n",
        " \r\n",
        "1. General data import and visualization.\r\n",
        "2. President-elect dataframe.\r\n",
        "3. Competing candidate dataframe.\r\n",
        "4. Competing candidate vs President elect Comparative analysis by state. (concat ())\r\n",
        "5. Comparison between candidates 2006 vs 2002 by state."
      ]
    },
    {
      "cell_type": "markdown",
      "metadata": {
        "id": "-7oQWmUV9tMC"
      },
      "source": [
        "1. Importação e visualização dos dados gerais // General data import and visualization."
      ]
    },
    {
      "cell_type": "code",
      "metadata": {
        "id": "F5XTuY7LBC65"
      },
      "source": [
        "import pandas as pd\r\n",
        "import numpy as np\r\n",
        "import scipy\r\n",
        "\r\n",
        "df2006 = pd.read_csv('resultado_2006porUF(ok).csv',quotechar='\"', decimal=\",\",sep=';', encoding= 'utf-8')\r\n",
        "df2006"
      ],
      "execution_count": null,
      "outputs": []
    },
    {
      "cell_type": "markdown",
      "metadata": {
        "id": "v2F-2Mte94q_"
      },
      "source": [
        "2. Dataframe do Presidente eleito // President-elect dataframe."
      ]
    },
    {
      "cell_type": "code",
      "metadata": {
        "id": "CQlUhGo1CH8K"
      },
      "source": [
        "dfLula06 = df2006['Candidato'].str.contains('Lula')\r\n",
        "dfLula06.head()\r\n",
        "dfLula06 = df2006[dfLula06]\r\n",
        "print(dfLula06.shape)\r\n",
        "dfLula06"
      ],
      "execution_count": null,
      "outputs": []
    },
    {
      "cell_type": "markdown",
      "metadata": {
        "id": "GBer99MJ-BW9"
      },
      "source": [
        "3. Dataframe do Candidato concorrente // Competing candidate dataframe."
      ]
    },
    {
      "cell_type": "code",
      "metadata": {
        "id": "PmhXaZTpBYOq"
      },
      "source": [
        "dfAlckmin = df2006['Candidato'].str.contains('Geraldo Alckmin')\r\n",
        "dfAlckmin.head()\r\n",
        "dfAlckmin = df2006[dfAlckmin]\r\n",
        "dfAlckmin.shape\r\n",
        "dfAlckmin"
      ],
      "execution_count": null,
      "outputs": []
    },
    {
      "cell_type": "markdown",
      "metadata": {
        "id": "Woo_GTAh-87W"
      },
      "source": [
        "4. Presidente eleito x Candidato concorrente \r\n",
        "// \r\n",
        "Competing candidate vs President elect Comparative analysis by state. (concat ())\r\n",
        "\r\n",
        "**#double click on the 'play' button to correctly visualization of the data**"
      ]
    },
    {
      "cell_type": "code",
      "metadata": {
        "id": "uvsrpi8ACi_7"
      },
      "source": [
        "#double click on the 'play' button to correctly visualization of the data\r\n",
        "\r\n",
        "LULAxAlck = [ dfAlckmin[['Votos','Proporção','Estado']],dfLula06[['Votos','Proporção','Estado']]]\r\n",
        "headers = [\"dfAlckmin\", \"dfLula06\"]\r\n",
        "df2006 = pd.concat(LULAxAlck, axis=1, keys=headers)\r\n",
        "dfAlckmin.reset_index(drop=True, inplace=True)\r\n",
        "dfLula06.reset_index(drop=True, inplace=True)\r\n",
        "\r\n",
        "df2006"
      ],
      "execution_count": null,
      "outputs": []
    },
    {
      "cell_type": "markdown",
      "metadata": {
        "id": "T4Zc9u-8_b2N"
      },
      "source": [
        "5. Comparação de votos por UF entre os candidatos 2006 x 2002\r\n",
        "//\r\n",
        "Comparison between candidates 2006 vs 2002 by state.\r\n",
        "\r\n",
        "- *** _double click on the 'play' (run) button to correctly visualization of the data._**"
      ]
    },
    {
      "cell_type": "code",
      "metadata": {
        "id": "GaogFj07DYXE"
      },
      "source": [
        "#double click on the 'play' button to correctly visualization of the data\r\n",
        "\r\n",
        "import numpy as np\r\n",
        "\r\n",
        "dfVotos0206 = [dfSerra['Votos Nominais'],dfLula02['Votos Nominais'],dfAlckmin['Votos'],dfLula06['Votos']]\r\n",
        "result_0206 = pd.concat(dfVotos0206, join='outer', axis=1, keys=headers).fillna('void')\r\n",
        "headers =  [\"Votos Serra 02\", \"Votos Lula 02\", \"Votos Alckmin 06\", \"Votos Lula 06\"]\r\n",
        "result_0206.apply(lambda x: x.str.replace(',','.'))\r\n",
        "result_0206 = result_0206.stack().str.replace(',','.').unstack()\r\n",
        "result_0206 = result_0206.stack().str.replace('.','').unstack()\r\n",
        "#result_0206 = result_0206.astype(np.float64)\r\n",
        "result_0206"
      ],
      "execution_count": null,
      "outputs": []
    },
    {
      "cell_type": "markdown",
      "metadata": {
        "id": "v_4_s4qn_kQd"
      },
      "source": [
        "- [apêndice 2006 não inicializado]:"
      ]
    },
    {
      "cell_type": "code",
      "metadata": {
        "id": "1JCIkjbC4wmL"
      },
      "source": [
        "import pandas as pd\r\n",
        "import numpy as np\r\n",
        "import scipy\r\n",
        "\r\n",
        "df_vencedorPorEstado = pd.read_csv('resultado_2006porUF.csv',quotechar='\"', decimal=\",\",sep=';', encoding= 'utf-8')\r\n",
        "df_vencedorPorEstado"
      ],
      "execution_count": null,
      "outputs": []
    },
    {
      "cell_type": "markdown",
      "metadata": {
        "id": "zAdBuhhSLLes"
      },
      "source": [
        "## 4. **2010 Electoral Data Analysis:**\r\n",
        "\r\n",
        "1. Importação e visualização dos dados gerais.\r\n",
        "2. Dataframe do Presidente eleito.\r\n",
        "3. Dataframe do candidato concorrente.\r\n",
        "4. Análise Comparativa por estado entre o candidato concorrente e o Presidente eleito. (concat())\r\n",
        "\r\n",
        "---\r\n",
        " \r\n",
        "1. General data import and visualization.\r\n",
        "2. President-elect dataframe.\r\n",
        "3. Competing candidate dataframe.\r\n",
        "4. Competing candidate vs President elect Comparative analysis by state. (concat ())\r\n"
      ]
    },
    {
      "cell_type": "markdown",
      "metadata": {
        "id": "HpI_0Vsa__Tz"
      },
      "source": [
        "1.  Importação e visualização dos dados gerais // General data import and visualization."
      ]
    },
    {
      "cell_type": "code",
      "metadata": {
        "id": "HktGxZ0GTpuN"
      },
      "source": [
        "import pandas as pd\r\n",
        "import numpy as np\r\n",
        "import scipy\r\n",
        "\r\n",
        "df2010 = pd.read_csv('resultado_da_eleição2010.csv',quotechar='\"', decimal=\",\",sep=';', encoding= 'ISO-8859-1')\r\n",
        "df2010"
      ],
      "execution_count": null,
      "outputs": []
    },
    {
      "cell_type": "markdown",
      "metadata": {
        "id": "BRuf4HMmAISD"
      },
      "source": [
        "2. Presidente eleita df // President-elect dataframe."
      ]
    },
    {
      "cell_type": "code",
      "metadata": {
        "id": "jyfygD3TUlQM"
      },
      "source": [
        "dfdilma10 = df2010['Candidato'].str.contains('DILMA')\r\n",
        "dfdilma10.head()\r\n",
        "dfdilma10 = df2010[dfdilma10]\r\n",
        "dfdilma10"
      ],
      "execution_count": null,
      "outputs": []
    },
    {
      "cell_type": "markdown",
      "metadata": {
        "id": "AoM_G9yQAUo2"
      },
      "source": [
        "3. Dataframe do candidato concorrente // competing candidate df"
      ]
    },
    {
      "cell_type": "code",
      "metadata": {
        "id": "a38rcMFiULX9"
      },
      "source": [
        "dfSerra10 = df2010['Candidato'].str.contains('JOSÉ SERRA')\r\n",
        "dfSerra10.head()\r\n",
        "dfSerra10 = df2010[dfSerra10]\r\n",
        "dfSerra10.shape\r\n",
        "dfSerra10"
      ],
      "execution_count": null,
      "outputs": []
    },
    {
      "cell_type": "markdown",
      "metadata": {
        "id": "WR_m8DAMAc4e"
      },
      "source": [
        "4. Presidente eleita x Candidato concorrente por UF // Competing candidate vs President elect Comparative analysis by state.\r\n",
        "\r\n",
        "***double click on 'play/execute' button to correctly visualization**"
      ]
    },
    {
      "cell_type": "code",
      "metadata": {
        "id": "9pOCq-lvU0rY"
      },
      "source": [
        "#double tap on 'play/execute' button to correctly visualization\r\n",
        "\r\n",
        "DilmaxSerra = [dfdilma10[['VotaçãoNominal','UF']],dfSerra10[['VotaçãoNominal','UF']]]\r\n",
        "headers = [\"dfDilma_2010\", \"dfSerra_2010\"]\r\n",
        "dfDilmaxSerra = pd.concat(DilmaxSerra, axis=1, keys=headers)\r\n",
        "dfdilma10.reset_index(drop=True, inplace=True)\r\n",
        "dfSerra10.reset_index(drop=True, inplace=True)\r\n",
        "\r\n",
        "dfDilmaxSerra"
      ],
      "execution_count": null,
      "outputs": []
    },
    {
      "cell_type": "markdown",
      "metadata": {
        "id": "rNufpYIy3Jn9"
      },
      "source": [
        "### 5. 4. **2014 Electoral Data Analysis:**\r\n",
        "\r\n",
        "1. Importação e visualização dos dados gerais.\r\n",
        "2. Dataframe do Presidente eleito.\r\n",
        "3. Dataframe do candidato concorrente.\r\n",
        "4. Análise Comparativa por estado entre o candidato concorrente e o Presidente eleito. (concat())\r\n",
        "\r\n",
        "---\r\n",
        " \r\n",
        "1. General data import and visualization.\r\n",
        "2. President-elect dataframe.\r\n",
        "3. Competing candidate dataframe.\r\n",
        "4. Competing candidate vs President elect Comparative analysis by state. (concat ())\r\n"
      ]
    },
    {
      "cell_type": "markdown",
      "metadata": {
        "id": "blhgOQNSBr6B"
      },
      "source": [
        "1. Importação e visualização dos dados gerais // General data import and visualization."
      ]
    },
    {
      "cell_type": "code",
      "metadata": {
        "id": "9K_xJxNNkelH"
      },
      "source": [
        "import pandas as pd\r\n",
        "import numpy as np\r\n",
        "import scipy\r\n",
        "\r\n",
        "df14 = pd.read_csv('resultado_2014(ok).csv', sep=';', encoding = 'utf-8')\r\n",
        "df14"
      ],
      "execution_count": null,
      "outputs": []
    },
    {
      "cell_type": "markdown",
      "metadata": {
        "id": "7DtF9CLiC0fw"
      },
      "source": [
        "2. Presidente eleita df // President-elect dataframe."
      ]
    },
    {
      "cell_type": "code",
      "metadata": {
        "id": "418q2v4OlxZk"
      },
      "source": [
        "dfDilma14 = df14['Candidato'].str.contains('Dilma')\r\n",
        "dfDilma14.head()\r\n",
        "dfDilma14 = df14[dfDilma14]\r\n",
        "dfDilma14.shape\r\n",
        "dfDilma14 "
      ],
      "execution_count": null,
      "outputs": []
    },
    {
      "cell_type": "markdown",
      "metadata": {
        "id": "8O2MWDoqC4BA"
      },
      "source": [
        "3. Candidato concorrente df // Competing candidate dataframe."
      ]
    },
    {
      "cell_type": "code",
      "metadata": {
        "id": "5fMOtjMglZar"
      },
      "source": [
        "dfAecio = df14['Candidato'].str.contains('Aécio')\r\n",
        "dfAecio.head()\r\n",
        "dfAecio = df14[dfAecio]\r\n",
        "dfAecio.shape\r\n",
        "dfAecio"
      ],
      "execution_count": null,
      "outputs": []
    },
    {
      "cell_type": "markdown",
      "metadata": {
        "id": "XSMen7-PC8uS"
      },
      "source": [
        "4. Presidente eleita x Candidato concorrente por UF // Competing candidate vs President elect Comparative analysis by state.\r\n",
        "\r\n",
        "***double click on 'play/execute' button to correctly visualization**"
      ]
    },
    {
      "cell_type": "code",
      "metadata": {
        "id": "YPZHKeDImHRh"
      },
      "source": [
        "#double tap on 'play/execute' button to correctly visualization\r\n",
        "DilmaxAecio = [dfDilma14[['Votos','Estado']],dfAecio[['Votos','Estado']]]\r\n",
        "headers = [\"dfDilma_2014\", \"dfAecio_2014\"]\r\n",
        "dfDilmaxAecio = pd.concat(DilmaxAecio, axis=1, keys=headers)\r\n",
        "dfDilma14.reset_index(drop=True, inplace=True)\r\n",
        "dfAecio.reset_index(drop=True, inplace=True)\r\n",
        "\r\n",
        "dfDilmaxAecio"
      ],
      "execution_count": null,
      "outputs": []
    },
    {
      "cell_type": "markdown",
      "metadata": {
        "id": "5eJs4geS5TQL"
      },
      "source": [
        "### 6. **2018 Electoral Data Analysis:**\r\n",
        "\r\n",
        "1. Importação e visualização dos dados gerais.\r\n",
        "2. Dataframe do Presidente eleito.\r\n",
        "3. Dataframe do candidato concorrente.\r\n",
        "4. Análise Comparativa por estado entre o candidato concorrente e o Presidente eleito. (concat())\r\n",
        "5. Comparação entre Presidentes eleitos 1998-2018 por UF.\r\n",
        "---\r\n",
        " \r\n",
        "1. General data import and visualization.\r\n",
        "2. President-elect dataframe.\r\n",
        "3. Competing candidate dataframe.\r\n",
        "4. Competing candidate vs President elect Comparative analysis by state. (concat ())\r\n",
        "5. Comparison between president-elects 1998-2018 by state.\r\n"
      ]
    },
    {
      "cell_type": "markdown",
      "metadata": {
        "id": "7j7GnNtWDel7"
      },
      "source": [
        "1. Importação e visualização dos dados gerais // General data import and visualization."
      ]
    },
    {
      "cell_type": "code",
      "metadata": {
        "id": "uQFWQGxbmeni"
      },
      "source": [
        "import pandas as pd\r\n",
        "import numpy as np\r\n",
        "import scipy\r\n",
        "\r\n",
        "df18 = pd.read_csv('resultado2018_(ok).csv', sep=';')\r\n",
        "df18"
      ],
      "execution_count": null,
      "outputs": []
    },
    {
      "cell_type": "markdown",
      "metadata": {
        "id": "c1Ec7QgrDmOW"
      },
      "source": [
        "2. Presidente eleito df // President-elect dataframe."
      ]
    },
    {
      "cell_type": "code",
      "metadata": {
        "id": "2iXWCCBPoNWQ"
      },
      "source": [
        "dfBolso = df18['Candidato'].str.contains('JAIR')\r\n",
        "dfBolso.head()\r\n",
        "dfBolso = df18[dfBolso]\r\n",
        "dfBolso.shape\r\n",
        "dfBolso"
      ],
      "execution_count": null,
      "outputs": []
    },
    {
      "cell_type": "markdown",
      "metadata": {
        "id": "Wn_YgPleDrSb"
      },
      "source": [
        "3. Candidato concorrente df // Competing candidate dataframe."
      ]
    },
    {
      "cell_type": "code",
      "metadata": {
        "id": "4URWgIvfpUK8"
      },
      "source": [
        "dfHaddad = df18['Candidato'].str.contains('HADDAD')\r\n",
        "dfHaddad.head()\r\n",
        "dfHaddad = df18[dfHaddad]\r\n",
        "dfHaddad.shape\r\n",
        "dfHaddad"
      ],
      "execution_count": null,
      "outputs": []
    },
    {
      "cell_type": "markdown",
      "metadata": {
        "id": "MHVUMxQiDwlz"
      },
      "source": [
        "4. Presidente eleito x Candidato concorrente df por UF // Competing candidate vs President elect Comparative analysis by state.\r\n",
        "\r\n",
        "***double click on 'play/execute' button to correctly visualization**"
      ]
    },
    {
      "cell_type": "code",
      "metadata": {
        "id": "cFwtSTYWpoDq",
        "colab": {
          "base_uri": "https://localhost:8080/",
          "height": 948
        },
        "outputId": "3c551ec0-2839-4764-90fe-0ec7dbbd4a03"
      },
      "source": [
        "#double click on 'play/execute' button to correctly visualization\r\n",
        "\r\n",
        "H13xB17 = [dfBolso[['nº votos (Estado)','% votos (Estado)', 'Estado']],dfHaddad[['nº votos (Estado)','% votos (Estado)', 'Estado']]]\r\n",
        "headers = [\"dfBolsonaro_2018\", \"dfHaddad_2018\"]\r\n",
        "dfH13xB17 = pd.concat(H13xB17, axis=1, keys=headers)\r\n",
        "dfBolso.reset_index(drop=True, inplace=True)\r\n",
        "dfHaddad.reset_index(drop=True, inplace=True)\r\n",
        "\r\n",
        "dfH13xB17"
      ],
      "execution_count": 52,
      "outputs": [
        {
          "output_type": "execute_result",
          "data": {
            "text/html": [
              "<div>\n",
              "<style scoped>\n",
              "    .dataframe tbody tr th:only-of-type {\n",
              "        vertical-align: middle;\n",
              "    }\n",
              "\n",
              "    .dataframe tbody tr th {\n",
              "        vertical-align: top;\n",
              "    }\n",
              "\n",
              "    .dataframe thead tr th {\n",
              "        text-align: left;\n",
              "    }\n",
              "</style>\n",
              "<table border=\"1\" class=\"dataframe\">\n",
              "  <thead>\n",
              "    <tr>\n",
              "      <th></th>\n",
              "      <th colspan=\"3\" halign=\"left\">dfBolsonaro_2018</th>\n",
              "      <th colspan=\"3\" halign=\"left\">dfHaddad_2018</th>\n",
              "    </tr>\n",
              "    <tr>\n",
              "      <th></th>\n",
              "      <th>nº votos (Estado)</th>\n",
              "      <th>% votos (Estado)</th>\n",
              "      <th>Estado</th>\n",
              "      <th>nº votos (Estado)</th>\n",
              "      <th>% votos (Estado)</th>\n",
              "      <th>Estado</th>\n",
              "    </tr>\n",
              "  </thead>\n",
              "  <tbody>\n",
              "    <tr>\n",
              "      <th>0</th>\n",
              "      <td>131671</td>\n",
              "      <td>71.02</td>\n",
              "      <td>ZZ</td>\n",
              "      <td>53730</td>\n",
              "      <td>28.98</td>\n",
              "      <td>ZZ</td>\n",
              "    </tr>\n",
              "    <tr>\n",
              "      <th>1</th>\n",
              "      <td>294899</td>\n",
              "      <td>77.22</td>\n",
              "      <td>Acre</td>\n",
              "      <td>86977</td>\n",
              "      <td>22.78</td>\n",
              "      <td>Acre</td>\n",
              "    </tr>\n",
              "    <tr>\n",
              "      <th>2</th>\n",
              "      <td>610093</td>\n",
              "      <td>40.08</td>\n",
              "      <td>Alagoas</td>\n",
              "      <td>912034</td>\n",
              "      <td>59.92</td>\n",
              "      <td>Alagoas</td>\n",
              "    </tr>\n",
              "    <tr>\n",
              "      <th>3</th>\n",
              "      <td>185096</td>\n",
              "      <td>50.20</td>\n",
              "      <td>Amapá</td>\n",
              "      <td>183616</td>\n",
              "      <td>49.80</td>\n",
              "      <td>Amapá</td>\n",
              "    </tr>\n",
              "    <tr>\n",
              "      <th>4</th>\n",
              "      <td>885401</td>\n",
              "      <td>50.27</td>\n",
              "      <td>Amazonas</td>\n",
              "      <td>875845</td>\n",
              "      <td>49.73</td>\n",
              "      <td>Amazonas</td>\n",
              "    </tr>\n",
              "    <tr>\n",
              "      <th>5</th>\n",
              "      <td>2060382</td>\n",
              "      <td>27.31</td>\n",
              "      <td>Bahia</td>\n",
              "      <td>5484901</td>\n",
              "      <td>72.69</td>\n",
              "      <td>Bahia</td>\n",
              "    </tr>\n",
              "    <tr>\n",
              "      <th>6</th>\n",
              "      <td>1384591</td>\n",
              "      <td>28.89</td>\n",
              "      <td>Ceará</td>\n",
              "      <td>3407526</td>\n",
              "      <td>71.11</td>\n",
              "      <td>Ceará</td>\n",
              "    </tr>\n",
              "    <tr>\n",
              "      <th>7</th>\n",
              "      <td>1080411</td>\n",
              "      <td>69.99</td>\n",
              "      <td>Distrito Federal</td>\n",
              "      <td>463340</td>\n",
              "      <td>30.01</td>\n",
              "      <td>Distrito Federal</td>\n",
              "    </tr>\n",
              "    <tr>\n",
              "      <th>8</th>\n",
              "      <td>1276611</td>\n",
              "      <td>63.06</td>\n",
              "      <td>Espírito Santo</td>\n",
              "      <td>747768</td>\n",
              "      <td>36.94</td>\n",
              "      <td>Espírito Santo</td>\n",
              "    </tr>\n",
              "    <tr>\n",
              "      <th>9</th>\n",
              "      <td>2124739</td>\n",
              "      <td>65.52</td>\n",
              "      <td>Goiás</td>\n",
              "      <td>1118060</td>\n",
              "      <td>34.48</td>\n",
              "      <td>Goiás</td>\n",
              "    </tr>\n",
              "    <tr>\n",
              "      <th>10</th>\n",
              "      <td>886565</td>\n",
              "      <td>26.74</td>\n",
              "      <td>Maranhão</td>\n",
              "      <td>2428913</td>\n",
              "      <td>73.26</td>\n",
              "      <td>Maranhão</td>\n",
              "    </tr>\n",
              "    <tr>\n",
              "      <th>11</th>\n",
              "      <td>1085824</td>\n",
              "      <td>66.42</td>\n",
              "      <td>Mato Grosso</td>\n",
              "      <td>549001</td>\n",
              "      <td>33.58</td>\n",
              "      <td>Mato Grosso</td>\n",
              "    </tr>\n",
              "    <tr>\n",
              "      <th>12</th>\n",
              "      <td>872049</td>\n",
              "      <td>65.22</td>\n",
              "      <td>Mato Grosso do Sul</td>\n",
              "      <td>465025</td>\n",
              "      <td>34.78</td>\n",
              "      <td>Mato Grosso do Sul</td>\n",
              "    </tr>\n",
              "    <tr>\n",
              "      <th>13</th>\n",
              "      <td>6100107</td>\n",
              "      <td>58.19</td>\n",
              "      <td>Minas Gerais</td>\n",
              "      <td>4382952</td>\n",
              "      <td>41.81</td>\n",
              "      <td>Minas Gerais</td>\n",
              "    </tr>\n",
              "    <tr>\n",
              "      <th>14</th>\n",
              "      <td>1742188</td>\n",
              "      <td>45.19</td>\n",
              "      <td>Pará</td>\n",
              "      <td>2112769</td>\n",
              "      <td>54.81</td>\n",
              "      <td>Pará</td>\n",
              "    </tr>\n",
              "    <tr>\n",
              "      <th>15</th>\n",
              "      <td>782143</td>\n",
              "      <td>35.02</td>\n",
              "      <td>Paraíba</td>\n",
              "      <td>1451293</td>\n",
              "      <td>64.98</td>\n",
              "      <td>Paraíba</td>\n",
              "    </tr>\n",
              "    <tr>\n",
              "      <th>16</th>\n",
              "      <td>4224416</td>\n",
              "      <td>68.43</td>\n",
              "      <td>Paraná</td>\n",
              "      <td>1948790</td>\n",
              "      <td>31.57</td>\n",
              "      <td>Paraná</td>\n",
              "    </tr>\n",
              "    <tr>\n",
              "      <th>17</th>\n",
              "      <td>1661163</td>\n",
              "      <td>33.50</td>\n",
              "      <td>Pernambuco</td>\n",
              "      <td>3297944</td>\n",
              "      <td>66.50</td>\n",
              "      <td>Pernambuco</td>\n",
              "    </tr>\n",
              "    <tr>\n",
              "      <th>18</th>\n",
              "      <td>422095</td>\n",
              "      <td>22.95</td>\n",
              "      <td>Piauí</td>\n",
              "      <td>1417113</td>\n",
              "      <td>77.05</td>\n",
              "      <td>Piauí</td>\n",
              "    </tr>\n",
              "    <tr>\n",
              "      <th>19</th>\n",
              "      <td>5669059</td>\n",
              "      <td>67.95</td>\n",
              "      <td>Rio de Janeiro</td>\n",
              "      <td>2673386</td>\n",
              "      <td>32.05</td>\n",
              "      <td>Rio de Janeiro</td>\n",
              "    </tr>\n",
              "    <tr>\n",
              "      <th>20</th>\n",
              "      <td>652562</td>\n",
              "      <td>36.59</td>\n",
              "      <td>Rio Grande do Norte</td>\n",
              "      <td>1131027</td>\n",
              "      <td>63.41</td>\n",
              "      <td>Rio Grande do Norte</td>\n",
              "    </tr>\n",
              "    <tr>\n",
              "      <th>21</th>\n",
              "      <td>3893737</td>\n",
              "      <td>63.24</td>\n",
              "      <td>Rio Grande do Sul</td>\n",
              "      <td>2263171</td>\n",
              "      <td>36.76</td>\n",
              "      <td>Rio Grande do Sul</td>\n",
              "    </tr>\n",
              "    <tr>\n",
              "      <th>22</th>\n",
              "      <td>594968</td>\n",
              "      <td>72.18</td>\n",
              "      <td>Rondônia</td>\n",
              "      <td>229343</td>\n",
              "      <td>27.82</td>\n",
              "      <td>Rondônia</td>\n",
              "    </tr>\n",
              "    <tr>\n",
              "      <th>23</th>\n",
              "      <td>183268</td>\n",
              "      <td>71.55</td>\n",
              "      <td>Roraima</td>\n",
              "      <td>72872</td>\n",
              "      <td>28.45</td>\n",
              "      <td>Roraima</td>\n",
              "    </tr>\n",
              "    <tr>\n",
              "      <th>24</th>\n",
              "      <td>2966242</td>\n",
              "      <td>75.92</td>\n",
              "      <td>Santa Catarina</td>\n",
              "      <td>940724</td>\n",
              "      <td>24.08</td>\n",
              "      <td>Santa Catarina</td>\n",
              "    </tr>\n",
              "    <tr>\n",
              "      <th>25</th>\n",
              "      <td>15306023</td>\n",
              "      <td>67.97</td>\n",
              "      <td>São Paulo</td>\n",
              "      <td>7212132</td>\n",
              "      <td>32.03</td>\n",
              "      <td>São Paulo</td>\n",
              "    </tr>\n",
              "    <tr>\n",
              "      <th>26</th>\n",
              "      <td>364860</td>\n",
              "      <td>32.46</td>\n",
              "      <td>Sergipe</td>\n",
              "      <td>759061</td>\n",
              "      <td>67.54</td>\n",
              "      <td>Sergipe</td>\n",
              "    </tr>\n",
              "    <tr>\n",
              "      <th>27</th>\n",
              "      <td>356684</td>\n",
              "      <td>48.98</td>\n",
              "      <td>Tocantins</td>\n",
              "      <td>371593</td>\n",
              "      <td>51.02</td>\n",
              "      <td>Tocantins</td>\n",
              "    </tr>\n",
              "  </tbody>\n",
              "</table>\n",
              "</div>"
            ],
            "text/plain": [
              "    dfBolsonaro_2018                                           dfHaddad_2018  \\\n",
              "   nº votos (Estado) % votos (Estado)               Estado nº votos (Estado)   \n",
              "0             131671            71.02                   ZZ             53730   \n",
              "1             294899            77.22                 Acre             86977   \n",
              "2             610093            40.08              Alagoas            912034   \n",
              "3             185096            50.20                Amapá            183616   \n",
              "4             885401            50.27             Amazonas            875845   \n",
              "5            2060382            27.31                Bahia           5484901   \n",
              "6            1384591            28.89                Ceará           3407526   \n",
              "7            1080411            69.99     Distrito Federal            463340   \n",
              "8            1276611            63.06       Espírito Santo            747768   \n",
              "9            2124739            65.52                Goiás           1118060   \n",
              "10            886565            26.74             Maranhão           2428913   \n",
              "11           1085824            66.42          Mato Grosso            549001   \n",
              "12            872049            65.22   Mato Grosso do Sul            465025   \n",
              "13           6100107            58.19         Minas Gerais           4382952   \n",
              "14           1742188            45.19                 Pará           2112769   \n",
              "15            782143            35.02              Paraíba           1451293   \n",
              "16           4224416            68.43               Paraná           1948790   \n",
              "17           1661163            33.50           Pernambuco           3297944   \n",
              "18            422095            22.95                Piauí           1417113   \n",
              "19           5669059            67.95       Rio de Janeiro           2673386   \n",
              "20            652562            36.59  Rio Grande do Norte           1131027   \n",
              "21           3893737            63.24    Rio Grande do Sul           2263171   \n",
              "22            594968            72.18             Rondônia            229343   \n",
              "23            183268            71.55              Roraima             72872   \n",
              "24           2966242            75.92       Santa Catarina            940724   \n",
              "25          15306023            67.97            São Paulo           7212132   \n",
              "26            364860            32.46              Sergipe            759061   \n",
              "27            356684            48.98            Tocantins            371593   \n",
              "\n",
              "                                          \n",
              "   % votos (Estado)               Estado  \n",
              "0             28.98                   ZZ  \n",
              "1             22.78                 Acre  \n",
              "2             59.92              Alagoas  \n",
              "3             49.80                Amapá  \n",
              "4             49.73             Amazonas  \n",
              "5             72.69                Bahia  \n",
              "6             71.11                Ceará  \n",
              "7             30.01     Distrito Federal  \n",
              "8             36.94       Espírito Santo  \n",
              "9             34.48                Goiás  \n",
              "10            73.26             Maranhão  \n",
              "11            33.58          Mato Grosso  \n",
              "12            34.78   Mato Grosso do Sul  \n",
              "13            41.81         Minas Gerais  \n",
              "14            54.81                 Pará  \n",
              "15            64.98              Paraíba  \n",
              "16            31.57               Paraná  \n",
              "17            66.50           Pernambuco  \n",
              "18            77.05                Piauí  \n",
              "19            32.05       Rio de Janeiro  \n",
              "20            63.41  Rio Grande do Norte  \n",
              "21            36.76    Rio Grande do Sul  \n",
              "22            27.82             Rondônia  \n",
              "23            28.45              Roraima  \n",
              "24            24.08       Santa Catarina  \n",
              "25            32.03            São Paulo  \n",
              "26            67.54              Sergipe  \n",
              "27            51.02            Tocantins  "
            ]
          },
          "metadata": {
            "tags": []
          },
          "execution_count": 52
        }
      ]
    },
    {
      "cell_type": "markdown",
      "metadata": {
        "id": "jo8LMtyJqyhS"
      },
      "source": [
        "# 5. **Comparando e estabelecendo estudos estatísticos entre os Presidentes eleitos entre 1998 e 2018 // Comparison between president-elects (% of votes) 1998-2018 by state (ANOVA):**"
      ]
    },
    {
      "cell_type": "markdown",
      "metadata": {
        "id": "s_Ar59F1rArj"
      },
      "source": [
        "- Vamos iniciar por criar um dataframe com os nº de votos por UF, % de votos por UF de cada um dos Presidentes."
      ]
    },
    {
      "cell_type": "code",
      "metadata": {
        "id": "BQIGZAwjrNxK"
      },
      "source": [
        "eleitos = [dfFHC[['Votos Nominais','%/Válidos','UF']], dfLula02[['Votos Nominais','%/Válidos','UF']],\r\n",
        "           dfLula06[['Votos','Proporção','Estado']], dfdilma10[['VotaçãoNominal','Proporção','UF']],\r\n",
        "           dfDilma14[['Votos','Proporção','Estado']], dfBolso[['nº votos (Estado)','% votos (Estado)', 'Estado']]]\r\n",
        "headers = ['dfFHC_1998','dfLula_2002','dfLula_2006','dfDilma_2010','dfDilma_2014','dfBolsonaro_2018']\r\n",
        "dfeleitos = pd.concat(eleitos, axis=1, keys=headers)\r\n",
        "dfFHC.reset_index(drop=True, inplace=True)\r\n",
        "dfLula02.reset_index(drop=True, inplace=True)\r\n",
        "dfLula06.reset_index(drop=True, inplace=True)\r\n",
        "dfdilma10.reset_index(drop=True, inplace=True)\r\n",
        "dfDilma14.reset_index(drop=True, inplace=True)\r\n",
        "dfBolso.reset_index(drop=True, inplace=True)\r\n",
        "\r\n",
        "# para salvar resultado dessa dataframe em um excel .csv:\r\n",
        "#execute: dfeleitos.to_csv('Resultado_Comparativo_Por_UF_Presidentes98_18.csv', sep=',', encoding='ISO-8859-1', quotechar='\"', decimal='.')\r\n",
        "dfeleitos"
      ],
      "execution_count": null,
      "outputs": []
    },
    {
      "cell_type": "markdown",
      "metadata": {
        "id": "b58yelXUEf0Z"
      },
      "source": [
        "- Wrangling the data to compare the % of votes with ANOVA:"
      ]
    },
    {
      "cell_type": "code",
      "metadata": {
        "id": "ojoDl_Zbq_my"
      },
      "source": [
        "eleitos_perCent = [dfFHC[['%/Válidos']], dfLula02[['%/Válidos']],\r\n",
        "           dfLula06[['Proporção']], dfdilma10[['Proporção']],\r\n",
        "           dfDilma14[['Proporção']],dfBolso[['% votos (Estado)']]]\r\n",
        "headers = ['FHC_1998','Lula_2002','Lula_2006','Dilma_2010','Dilma_2014','Bolsonaro_2018']\r\n",
        "dfeleitos_perCent = pd.concat(eleitos_perCent, axis=1, keys=headers)\r\n",
        "dfFHC.reset_index(drop=True, inplace=True)\r\n",
        "dfLula02.reset_index(drop=True, inplace=True)\r\n",
        "dfLula06.reset_index(drop=True, inplace=True)\r\n",
        "dfdilma10.reset_index(drop=True, inplace=True)\r\n",
        "dfDilma14.reset_index(drop=True, inplace=True)\r\n",
        "dfBolso.reset_index(drop=True, inplace=True)\r\n",
        "\r\n",
        "dfeleitos_perCent.drop(dfeleitos_perCent.tail(1).index,inplace=True)\r\n",
        "\r\n",
        "dfeleitos_perCent.Lula_2006=dfeleitos_perCent.Lula_2006['Proporção'].str.replace('[%]','')\r\n",
        "dfeleitos_perCent.Dilma_2014=dfeleitos_perCent.Dilma_2014['Proporção'].str.replace('[%]','')\r\n",
        "dfeleitos_perCent.Lula_2006=dfeleitos_perCent.Lula_2006['Proporção'].str.replace(',','.')\r\n",
        "dfeleitos_perCent.Dilma_2014=dfeleitos_perCent.Dilma_2014['Proporção'].str.replace(',','.')\r\n",
        "\r\n",
        "dfeleitos_perCent = dfeleitos_perCent.astype(np.float64)\r\n",
        "\r\n",
        "dfeleitos_perCent"
      ],
      "execution_count": null,
      "outputs": []
    },
    {
      "cell_type": "markdown",
      "metadata": {
        "id": "HT4luB853x6h"
      },
      "source": [
        "# Aplicando ANOVA às Porcentagens por UF dos Presidentes eleitos entre 98 e 2018:\r\n",
        "\r\n",
        "1. Compute the grand mean of the matrix\r\n",
        "2. Compute the mean for each group\r\n",
        "3. Compute the Total Sum of Squares SST\r\n",
        "4. Compute the Sum of Squares Within groups SSW\r\n",
        "5. Compute the Sum of Squares Between groups SSB\r\n",
        "6. Degrees of freedom for the three sums of squares\r\n",
        "7. Compute the F-statistic"
      ]
    },
    {
      "cell_type": "code",
      "metadata": {
        "id": "UEQTYy5y4aH8"
      },
      "source": [
        "# Data manipulation\r\n",
        "import pandas as pd\r\n",
        "import numpy as np\r\n",
        "\r\n",
        "# Options for pandas\r\n",
        "pd.options.display.max_columns = 50\r\n",
        "pd.options.display.max_rows = 30\r\n",
        "\r\n",
        "import matplotlib.pyplot as plt\r\n",
        "import seaborn as sns\r\n",
        "\r\n",
        "from scipy.stats import f_oneway"
      ],
      "execution_count": 55,
      "outputs": []
    },
    {
      "cell_type": "markdown",
      "metadata": {
        "id": "a7s75wGs4PHr"
      },
      "source": [
        "1. Computing the Grand Mean"
      ]
    },
    {
      "cell_type": "code",
      "metadata": {
        "id": "VIEdwTR84OAS",
        "colab": {
          "base_uri": "https://localhost:8080/"
        },
        "outputId": "d59efc0a-80a3-4547-dd6f-03ff884129b0"
      },
      "source": [
        "grand_mean = np.array(dfeleitos_perCent).mean()\r\n",
        "grand_mean"
      ],
      "execution_count": 56,
      "outputs": [
        {
          "output_type": "execute_result",
          "data": {
            "text/plain": [
              "57.01326687833333"
            ]
          },
          "metadata": {
            "tags": []
          },
          "execution_count": 56
        }
      ]
    },
    {
      "cell_type": "markdown",
      "metadata": {
        "id": "5L8gQR5d8pDl"
      },
      "source": [
        "2. Computing the mean for each group."
      ]
    },
    {
      "cell_type": "code",
      "metadata": {
        "id": "A5aVtt458uxv",
        "colab": {
          "base_uri": "https://localhost:8080/"
        },
        "outputId": "b20e19da-dad2-4af0-b110-e3793a1906c6"
      },
      "source": [
        "group_means = dfeleitos_perCent.loc[:,'FHC_1998':'Bolsonaro_2018'].mean()\r\n",
        "group_means"
      ],
      "execution_count": 57,
      "outputs": [
        {
          "output_type": "execute_result",
          "data": {
            "text/plain": [
              "FHC_1998        %/Válidos           53.848536\n",
              "Lula_2002       %/Válidos           60.433786\n",
              "Lula_2006       Proporção           62.183571\n",
              "Dilma_2010      Proporção           56.234423\n",
              "Dilma_2014      Proporção           55.734286\n",
              "Bolsonaro_2018  % votos (Estado)    53.645000\n",
              "dtype: float64"
            ]
          },
          "metadata": {
            "tags": []
          },
          "execution_count": 57
        }
      ]
    },
    {
      "cell_type": "markdown",
      "metadata": {
        "id": "SWHAGFQi9B8w"
      },
      "source": [
        "3.  Compute the Total Sum of Squares SST\r\n",
        "\r\n",
        "- The sum of means equals the mean of sums."
      ]
    },
    {
      "cell_type": "code",
      "metadata": {
        "id": "3lw2LMx49SA_",
        "colab": {
          "base_uri": "https://localhost:8080/"
        },
        "outputId": "a4fb2133-4155-442e-9ec8-2b9122e84aef"
      },
      "source": [
        "total_sum_squares = sum(((dfeleitos_perCent.loc[:,'FHC_1998':'Bolsonaro_2018'] - grand_mean)**2).sum()) # Your code here\r\n",
        "total_sum_squares"
      ],
      "execution_count": 60,
      "outputs": [
        {
          "output_type": "execute_result",
          "data": {
            "text/plain": [
              "30089.982515982854"
            ]
          },
          "metadata": {
            "tags": []
          },
          "execution_count": 60
        }
      ]
    },
    {
      "cell_type": "markdown",
      "metadata": {
        "id": "Mi8gsBLG9ILy"
      },
      "source": [
        "4. Compute the Sum of Squares Within groups SSW\r\n"
      ]
    },
    {
      "cell_type": "code",
      "metadata": {
        "id": "0efQlBD59TRW",
        "colab": {
          "base_uri": "https://localhost:8080/"
        },
        "outputId": "4d4f0895-1233-4382-a151-6c4b0025ad75"
      },
      "source": [
        "within_group_sum_squares = (((dfeleitos_perCent.FHC_1998['%/Válidos'] - dfeleitos_perCent.FHC_1998['%/Válidos'].mean())**2) +\r\n",
        "\t\t\t\t\t\t\t\t\t\t\t\t\t ((dfeleitos_perCent.Lula_2002['%/Válidos'] - dfeleitos_perCent.Lula_2002['%/Válidos'].mean())**2) +\r\n",
        "                           ((dfeleitos_perCent.Lula_2006['Proporção'] - dfeleitos_perCent.Lula_2006['Proporção'].mean())**2) +\r\n",
        "\t\t\t\t\t\t\t\t\t\t\t\t\t ((dfeleitos_perCent.Dilma_2010['Proporção'] - dfeleitos_perCent.Dilma_2010['Proporção'].mean())**2) +\r\n",
        "                           ((dfeleitos_perCent.Dilma_2014['Proporção'] - dfeleitos_perCent.Dilma_2014['Proporção'].mean())**2) +\r\n",
        "                           ((dfeleitos_perCent.Bolsonaro_2018['% votos (Estado)'] - dfeleitos_perCent.Bolsonaro_2018['% votos (Estado)'].mean())**2)).sum()\r\n",
        "       \r\n",
        "within_group_sum_squares"
      ],
      "execution_count": 61,
      "outputs": [
        {
          "output_type": "execute_result",
          "data": {
            "text/plain": [
              "28352.9987519981"
            ]
          },
          "metadata": {
            "tags": []
          },
          "execution_count": 61
        }
      ]
    },
    {
      "cell_type": "markdown",
      "metadata": {
        "id": "aq3bvbwj9KuG"
      },
      "source": [
        "5. Compute the Sum of Squares Between groups SSB\r\n",
        "\r\n",
        "- Compute the squared difference between the Group Means and the Grand Mean. How many times should this operation succeed to compute the Between Group Sum of Squares?"
      ]
    },
    {
      "cell_type": "code",
      "metadata": {
        "id": "wazIYwsd9Vcu",
        "colab": {
          "base_uri": "https://localhost:8080/"
        },
        "outputId": "148ff7b6-d898-41ec-be2e-33094290b20f"
      },
      "source": [
        "between_group_sum_squares = (((group_means - grand_mean)**2)*28).sum()# Your code here\r\n",
        "# temos 28 linhas na df= number of observations per group\r\n",
        "#, então multiplicamos a diferença de group_means e grand_mean por n=28\r\n",
        "between_group_sum_squares"
      ],
      "execution_count": 62,
      "outputs": [
        {
          "output_type": "execute_result",
          "data": {
            "text/plain": [
              "1736.9837639847574"
            ]
          },
          "metadata": {
            "tags": []
          },
          "execution_count": 62
        }
      ]
    },
    {
      "cell_type": "markdown",
      "metadata": {
        "id": "mjJAONRKR57w"
      },
      "source": [
        "Checando: The sum of the Withing Group Sum of Squares with the Between Group Sum of Squares equals the Total Sum of Squares:"
      ]
    },
    {
      "cell_type": "code",
      "metadata": {
        "id": "3a1a51vOR-O_",
        "colab": {
          "base_uri": "https://localhost:8080/"
        },
        "outputId": "1b0fc408-a282-43ee-b483-3e5ca796df0d"
      },
      "source": [
        "within_group_sum_squares + between_group_sum_squares"
      ],
      "execution_count": 63,
      "outputs": [
        {
          "output_type": "execute_result",
          "data": {
            "text/plain": [
              "30089.982515982858"
            ]
          },
          "metadata": {
            "tags": []
          },
          "execution_count": 63
        }
      ]
    },
    {
      "cell_type": "markdown",
      "metadata": {
        "id": "YdZv98__9MVA"
      },
      "source": [
        "6. Degrees of freedom for the three sums of squares\r\n"
      ]
    },
    {
      "cell_type": "code",
      "metadata": {
        "id": "iGvmFKYp9ape",
        "colab": {
          "base_uri": "https://localhost:8080/"
        },
        "outputId": "d4ef8eb4-88c6-4039-d423-5348dfb0b190"
      },
      "source": [
        "df_between_group = len(dfeleitos_perCent.columns) - 1 # Your code here\r\n",
        "# df_between_group = m - 1\r\n",
        "df_between_group"
      ],
      "execution_count": 64,
      "outputs": [
        {
          "output_type": "execute_result",
          "data": {
            "text/plain": [
              "5"
            ]
          },
          "metadata": {
            "tags": []
          },
          "execution_count": 64
        }
      ]
    },
    {
      "cell_type": "code",
      "metadata": {
        "id": "Wj_jPr7cSN-d",
        "colab": {
          "base_uri": "https://localhost:8080/"
        },
        "outputId": "48921d5c-be7a-4c57-cbda-b77bb80acc3a"
      },
      "source": [
        "#######################\r\n",
        "#within groups:\r\n",
        "df_within_group = (len(dfeleitos_perCent.columns)*(len(dfeleitos_perCent)-1))# Your code here\r\n",
        "# df_within_group = m(n-1); len(df.columns) = m colunas; len(df) = n rows). = 6*(28-1) = 162\r\n",
        "df_within_group"
      ],
      "execution_count": 65,
      "outputs": [
        {
          "output_type": "execute_result",
          "data": {
            "text/plain": [
              "162"
            ]
          },
          "metadata": {
            "tags": []
          },
          "execution_count": 65
        }
      ]
    },
    {
      "cell_type": "markdown",
      "metadata": {
        "id": "y82NOerV9PRO"
      },
      "source": [
        "7. Compute the F-statistic"
      ]
    },
    {
      "cell_type": "code",
      "metadata": {
        "id": "1tg-WDf89bLe",
        "colab": {
          "base_uri": "https://localhost:8080/"
        },
        "outputId": "c64d49e2-5d7b-4a35-950b-57ddb04c5ccf"
      },
      "source": [
        "f_stat = ((between_group_sum_squares /\r\n",
        "           df_between_group) /\r\n",
        "          (within_group_sum_squares /\r\n",
        "           df_within_group))\r\n",
        "f_stat"
      ],
      "execution_count": 66,
      "outputs": [
        {
          "output_type": "execute_result",
          "data": {
            "text/plain": [
              "1.9849143452291826"
            ]
          },
          "metadata": {
            "tags": []
          },
          "execution_count": 66
        }
      ]
    },
    {
      "cell_type": "code",
      "metadata": {
        "id": "D-4N9XwvS1N-",
        "colab": {
          "base_uri": "https://localhost:8080/"
        },
        "outputId": "fff16273-f2f2-47b5-f742-ab6a8ee28883"
      },
      "source": [
        "f_oneway(*[dfeleitos_perCent[x] for x in dfeleitos_perCent.columns])"
      ],
      "execution_count": 67,
      "outputs": [
        {
          "output_type": "execute_result",
          "data": {
            "text/plain": [
              "F_onewayResult(statistic=1.9849143452291802, pvalue=0.08354183459978082)"
            ]
          },
          "metadata": {
            "tags": []
          },
          "execution_count": 67
        }
      ]
    },
    {
      "cell_type": "markdown",
      "metadata": {
        "id": "9dlst_A9F2x3"
      },
      "source": [
        "- Number of States with 'x%' of Votes x Percentage of Votes Histogram:"
      ]
    },
    {
      "cell_type": "code",
      "metadata": {
        "id": "5kx8nwd2TCJl",
        "colab": {
          "base_uri": "https://localhost:8080/",
          "height": 998
        },
        "outputId": "e7e0ef26-2473-49f2-d652-34c66b5d668b"
      },
      "source": [
        "dfeleitos_perCent.hist(figsize=(15,15),facecolor='blue',edgecolor='red')"
      ],
      "execution_count": 68,
      "outputs": [
        {
          "output_type": "execute_result",
          "data": {
            "text/plain": [
              "array([[<matplotlib.axes._subplots.AxesSubplot object at 0x7f8963be0ac8>,\n",
              "        <matplotlib.axes._subplots.AxesSubplot object at 0x7f8963bb1d68>],\n",
              "       [<matplotlib.axes._subplots.AxesSubplot object at 0x7f8963b65fd0>,\n",
              "        <matplotlib.axes._subplots.AxesSubplot object at 0x7f8963b21278>],\n",
              "       [<matplotlib.axes._subplots.AxesSubplot object at 0x7f8963b534e0>,\n",
              "        <matplotlib.axes._subplots.AxesSubplot object at 0x7f8963b02748>]],\n",
              "      dtype=object)"
            ]
          },
          "metadata": {
            "tags": []
          },
          "execution_count": 68
        },
        {
          "output_type": "display_data",
          "data": {
            "image/png": "[encoded data removed]",
            "text/plain": [
              "<Figure size 1080x1080 with 6 Axes>"
            ]
          },
          "metadata": {
            "tags": [],
            "needs_background": "light"
          }
        }
      ]
    },
    {
      "cell_type": "markdown",
      "metadata": {
        "id": "wRJjPbTxGO2M"
      },
      "source": [
        "- Comparison between all percentage of votes of each President:"
      ]
    },
    {
      "cell_type": "code",
      "metadata": {
        "id": "2JvNCh6GTGr1",
        "colab": {
          "base_uri": "https://localhost:8080/",
          "height": 456
        },
        "outputId": "64d7ccfd-7206-4ecf-9d97-00434884240e"
      },
      "source": [
        "dfeleitos_perCent.boxplot(figsize=(18,8))"
      ],
      "execution_count": 69,
      "outputs": [
        {
          "output_type": "execute_result",
          "data": {
            "text/plain": [
              "<matplotlib.axes._subplots.AxesSubplot at 0x7f89647003c8>"
            ]
          },
          "metadata": {
            "tags": []
          },
          "execution_count": 69
        },
        {
          "output_type": "display_data",
          "data": {
            "image/png": "[encoded data removed]",
            "text/plain": [
              "<Figure size 1296x576 with 1 Axes>"
            ]
          },
          "metadata": {
            "tags": [],
            "needs_background": "light"
          }
        }
      ]
    },
    {
      "cell_type": "markdown",
      "metadata": {
        "id": "KCDdojCaGXwY"
      },
      "source": [
        "In the boxplot above is remarkable the mean dispersion and variation between the % of each President-elect.\r\n",
        "- For example, from 2010 to 2018, the variation between % of  votes in the states is increasing and that might be a signal of uncertain or duality between the options in different states."
      ]
    },
    {
      "cell_type": "markdown",
      "metadata": {
        "id": "bMRyc1RnHQJF"
      },
      "source": [
        "in the graph below, \r\n",
        "\r\n",
        "- y = % of votes\r\n",
        "- x = number of the state in df"
      ]
    },
    {
      "cell_type": "code",
      "metadata": {
        "colab": {
          "base_uri": "https://localhost:8080/",
          "height": 513
        },
        "id": "YNotu5fwVRaF",
        "outputId": "aac5fad6-e7f5-4ecb-f5d1-56349f6162b0"
      },
      "source": [
        "import seaborn as sns\r\n",
        "sns.set()\r\n",
        "dfeleitos_perCent.plot(figsize=(20,10))\r\n",
        "plt.xlabel('Nº da UF no df')\r\n",
        "plt.ylabel('% de votos na UF')"
      ],
      "execution_count": 70,
      "outputs": [
        {
          "output_type": "execute_result",
          "data": {
            "text/plain": [
              "Text(0, 0.5, '% de votos na UF')"
            ]
          },
          "metadata": {
            "tags": []
          },
          "execution_count": 70
        },
        {
          "output_type": "display_data",
          "data": {
            "image/png": "[encoded data removed]",
            "text/plain": [
              "<Figure size 1440x720 with 1 Axes>"
            ]
          },
          "metadata": {
            "tags": []
          }
        }
      ]
    },
    {
      "cell_type": "markdown",
      "metadata": {
        "id": "WeKk8RSGH--f"
      },
      "source": [
        "- in this graph above we can observe in wich state some president-elect from 1998-2018 has more electorate."
      ]
    },
    {
      "cell_type": "code",
      "metadata": {
        "id": "A2moyMT8gjCM"
      },
      "source": [
        "#dfeleitos_perCent.to_csv('eleitosVotosUF.csv')"
      ],
      "execution_count": null,
      "outputs": []
    },
    {
      "cell_type": "code",
      "metadata": {
        "id": "r3gRdIUahzVF"
      },
      "source": [
        "dfeleitos_perCent"
      ],
      "execution_count": null,
      "outputs": []
    },
    {
      "cell_type": "markdown",
      "metadata": {
        "id": "VFHuiqs2IV7F"
      },
      "source": [
        "## **Aplicando Método PCA nas porcentagens de voto por estado dos presidentes eleitos entre 1998 e 2018:**\r\n",
        "---\r\n",
        "## **Applying the PCA Method to the percentage of votes by state of presidents elected between 1998 and 2018:**"
      ]
    },
    {
      "cell_type": "code",
      "metadata": {
        "id": "IK-UnNdVnOG8"
      },
      "source": [
        "import pandas as pd\r\n",
        "\r\n",
        "dfE = pd.read_csv('eleitosVotosUF.csv', sep = ';',encoding='ISO-8859-1')\r\n",
        "#dfE.astype(float)\r\n",
        "#names= ['Percent_98','Percent_02','Percent_06','Percent_10','Percent_14','Percent_18','target']''' \r\n",
        "dfE_notarget = dfE.drop(labels='target', axis=1)\r\n",
        "dfE_notarget"
      ],
      "execution_count": null,
      "outputs": []
    },
    {
      "cell_type": "code",
      "metadata": {
        "id": "u1603AxUsvGg"
      },
      "source": [
        "from sklearn.preprocessing import StandardScaler\r\n",
        "\r\n",
        "features = ['Percent_98','Percent_02','Percent_06','Percent_10','Percent_14','Percent_18']\r\n",
        "# Separating out the features\r\n",
        "x = dfE.loc[:, features].values\r\n",
        "# Separating out the target\r\n",
        "y = dfE.loc[:,['target']].values\r\n",
        "# Standardizing the features\r\n",
        "x = StandardScaler().fit_transform(x)"
      ],
      "execution_count": null,
      "outputs": []
    },
    {
      "cell_type": "code",
      "metadata": {
        "colab": {
          "base_uri": "https://localhost:8080/"
        },
        "id": "HIc82tO50Lvl",
        "outputId": "0f614c43-503c-4dc2-e396-8c779ed6b1c6"
      },
      "source": [
        "x.shape"
      ],
      "execution_count": null,
      "outputs": [
        {
          "output_type": "execute_result",
          "data": {
            "text/plain": [
              "(28, 6)"
            ]
          },
          "metadata": {
            "tags": []
          },
          "execution_count": 62
        }
      ]
    },
    {
      "cell_type": "code",
      "metadata": {
        "colab": {
          "base_uri": "https://localhost:8080/"
        },
        "id": "0W3K3NTL0Nxo",
        "outputId": "40c465ee-3e97-4470-c57d-0d776e615731"
      },
      "source": [
        "np.mean(x),np.std(x)"
      ],
      "execution_count": null,
      "outputs": [
        {
          "output_type": "execute_result",
          "data": {
            "text/plain": [
              "(-3.172065784643304e-17, 1.0)"
            ]
          },
          "metadata": {
            "tags": []
          },
          "execution_count": 63
        }
      ]
    },
    {
      "cell_type": "code",
      "metadata": {
        "id": "lHmoatGBvEiV"
      },
      "source": [
        "from sklearn.decomposition import PCA\r\n",
        "\r\n",
        "pca = PCA(n_components=2)\r\n",
        "principalComponents = pca.fit_transform(x)\r\n",
        "principalDf = pd.DataFrame(data = principalComponents\r\n",
        "             , columns = ['principal component 1', 'principal component 2'])"
      ],
      "execution_count": null,
      "outputs": []
    },
    {
      "cell_type": "code",
      "metadata": {
        "colab": {
          "base_uri": "https://localhost:8080/"
        },
        "id": "73wcx6CW5BYv",
        "outputId": "5a623c9c-a124-4a4c-9ec1-34590abe4c71"
      },
      "source": [
        "pca.explained_variance_ratio_"
      ],
      "execution_count": null,
      "outputs": [
        {
          "output_type": "execute_result",
          "data": {
            "text/plain": [
              "array([0.50603443, 0.21854024])"
            ]
          },
          "metadata": {
            "tags": []
          },
          "execution_count": 65
        }
      ]
    },
    {
      "cell_type": "markdown",
      "metadata": {
        "id": "KbCQyS7PCvjm"
      },
      "source": [
        "se usarmos 6 n_components variancia explicada = array([0.50603443, 0.21854024, 0.12294488, 0.08997037, 0.04617297,\r\n",
        "       0.01633711])"
      ]
    },
    {
      "cell_type": "markdown",
      "metadata": {
        "id": "KFWhgKMSHG0h"
      },
      "source": [
        "Eigenvalues associados aos Loadings e as componentes principais que detém maior variancia explicada entre as componentes principais:"
      ]
    },
    {
      "cell_type": "code",
      "metadata": {
        "colab": {
          "base_uri": "https://localhost:8080/",
          "height": 235
        },
        "id": "e754bpMKE5u-",
        "outputId": "bb92c068-5a30-4a40-d469-fe83d6cb46c1"
      },
      "source": [
        "loadings = pd.DataFrame(pca.components_.T, columns=['principal component 1','principal component 2'], index=dfE_notarget.columns)\r\n",
        "loadings"
      ],
      "execution_count": null,
      "outputs": [
        {
          "output_type": "execute_result",
          "data": {
            "text/html": [
              "<div>\n",
              "<style scoped>\n",
              "    .dataframe tbody tr th:only-of-type {\n",
              "        vertical-align: middle;\n",
              "    }\n",
              "\n",
              "    .dataframe tbody tr th {\n",
              "        vertical-align: top;\n",
              "    }\n",
              "\n",
              "    .dataframe thead th {\n",
              "        text-align: right;\n",
              "    }\n",
              "</style>\n",
              "<table border=\"1\" class=\"dataframe\">\n",
              "  <thead>\n",
              "    <tr style=\"text-align: right;\">\n",
              "      <th></th>\n",
              "      <th>principal component 1</th>\n",
              "      <th>principal component 2</th>\n",
              "    </tr>\n",
              "  </thead>\n",
              "  <tbody>\n",
              "    <tr>\n",
              "      <th>Percent_98</th>\n",
              "      <td>0.108756</td>\n",
              "      <td>-0.674989</td>\n",
              "    </tr>\n",
              "    <tr>\n",
              "      <th>Percent_02</th>\n",
              "      <td>-0.142339</td>\n",
              "      <td>0.627817</td>\n",
              "    </tr>\n",
              "    <tr>\n",
              "      <th>Percent_06</th>\n",
              "      <td>0.523355</td>\n",
              "      <td>0.212541</td>\n",
              "    </tr>\n",
              "    <tr>\n",
              "      <th>Percent_10</th>\n",
              "      <td>0.529985</td>\n",
              "      <td>0.198852</td>\n",
              "    </tr>\n",
              "    <tr>\n",
              "      <th>Percent_14</th>\n",
              "      <td>0.491451</td>\n",
              "      <td>0.091823</td>\n",
              "    </tr>\n",
              "    <tr>\n",
              "      <th>Percent_18</th>\n",
              "      <td>-0.414251</td>\n",
              "      <td>0.238932</td>\n",
              "    </tr>\n",
              "  </tbody>\n",
              "</table>\n",
              "</div>"
            ],
            "text/plain": [
              "            principal component 1  principal component 2\n",
              "Percent_98               0.108756              -0.674989\n",
              "Percent_02              -0.142339               0.627817\n",
              "Percent_06               0.523355               0.212541\n",
              "Percent_10               0.529985               0.198852\n",
              "Percent_14               0.491451               0.091823\n",
              "Percent_18              -0.414251               0.238932"
            ]
          },
          "metadata": {
            "tags": []
          },
          "execution_count": 66
        }
      ]
    },
    {
      "cell_type": "markdown",
      "metadata": {
        "id": "-9_sThKfGozq"
      },
      "source": [
        "Correlação entre as variáveis correspondente as porcentagens de voto de cada eleito nos anos de 98 a 2018 e as componentes principais:\r\n",
        "- _Por exemplo abaixo nota-se que as porcentagens de Dilma em 2010, 'Percent_10' tem uma correlação de 0.94 com a componente principal 1._"
      ]
    },
    {
      "cell_type": "code",
      "metadata": {
        "colab": {
          "base_uri": "https://localhost:8080/",
          "height": 235
        },
        "id": "RN_sOZbWGKaR",
        "outputId": "3ea87300-ef8a-411b-8c79-baf5794208ca"
      },
      "source": [
        "loadings = pca.components_.T * np.sqrt(pca.explained_variance_)\r\n",
        "\r\n",
        "loading_matrix = pd.DataFrame(loadings, columns=['principal component 1','principal component 2'], index=dfE_notarget.columns)\r\n",
        "loading_matrix"
      ],
      "execution_count": null,
      "outputs": [
        {
          "output_type": "execute_result",
          "data": {
            "text/html": [
              "<div>\n",
              "<style scoped>\n",
              "    .dataframe tbody tr th:only-of-type {\n",
              "        vertical-align: middle;\n",
              "    }\n",
              "\n",
              "    .dataframe tbody tr th {\n",
              "        vertical-align: top;\n",
              "    }\n",
              "\n",
              "    .dataframe thead th {\n",
              "        text-align: right;\n",
              "    }\n",
              "</style>\n",
              "<table border=\"1\" class=\"dataframe\">\n",
              "  <thead>\n",
              "    <tr style=\"text-align: right;\">\n",
              "      <th></th>\n",
              "      <th>principal component 1</th>\n",
              "      <th>principal component 2</th>\n",
              "    </tr>\n",
              "  </thead>\n",
              "  <tbody>\n",
              "    <tr>\n",
              "      <th>Percent_98</th>\n",
              "      <td>0.192981</td>\n",
              "      <td>-0.787109</td>\n",
              "    </tr>\n",
              "    <tr>\n",
              "      <th>Percent_02</th>\n",
              "      <td>-0.252573</td>\n",
              "      <td>0.732102</td>\n",
              "    </tr>\n",
              "    <tr>\n",
              "      <th>Percent_06</th>\n",
              "      <td>0.928665</td>\n",
              "      <td>0.247845</td>\n",
              "    </tr>\n",
              "    <tr>\n",
              "      <th>Percent_10</th>\n",
              "      <td>0.940430</td>\n",
              "      <td>0.231883</td>\n",
              "    </tr>\n",
              "    <tr>\n",
              "      <th>Percent_14</th>\n",
              "      <td>0.872053</td>\n",
              "      <td>0.107076</td>\n",
              "    </tr>\n",
              "    <tr>\n",
              "      <th>Percent_18</th>\n",
              "      <td>-0.735065</td>\n",
              "      <td>0.278620</td>\n",
              "    </tr>\n",
              "  </tbody>\n",
              "</table>\n",
              "</div>"
            ],
            "text/plain": [
              "            principal component 1  principal component 2\n",
              "Percent_98               0.192981              -0.787109\n",
              "Percent_02              -0.252573               0.732102\n",
              "Percent_06               0.928665               0.247845\n",
              "Percent_10               0.940430               0.231883\n",
              "Percent_14               0.872053               0.107076\n",
              "Percent_18              -0.735065               0.278620"
            ]
          },
          "metadata": {
            "tags": []
          },
          "execution_count": 67
        }
      ]
    },
    {
      "cell_type": "markdown",
      "metadata": {
        "id": "RVssgj--HaiL"
      },
      "source": [
        "**Podemos então observar que os votos por UF das eleições de 2006 a 2018 têm maior correspondência a Componente Principal 1, enquanto as de 1998 e 2002 têm maior correspondência a Componente Principal 2.**"
      ]
    },
    {
      "cell_type": "code",
      "metadata": {
        "colab": {
          "base_uri": "https://localhost:8080/",
          "height": 285
        },
        "id": "ZQFVzujo0F16",
        "outputId": "6afcdf7b-dac3-432a-b9d3-e8d55b38a968"
      },
      "source": [
        "import numpy as np\r\n",
        "import matplotlib.pyplot as plt\r\n",
        "\r\n",
        "plt.bar(range(1,len(pca.explained_variance_ratio_ )+1),\r\n",
        "        pca.explained_variance_ratio_ )\r\n",
        "plt.plot(range(1,len(pca.explained_variance_ratio_ )+1),\r\n",
        "         pca.explained_variance_ratio_ , 'r+-')\r\n",
        "plt.xlabel('Components')\r\n",
        "plt.ylabel('Ratio explained variance')\r\n",
        "\r\n",
        "plt.show()"
      ],
      "execution_count": null,
      "outputs": [
        {
          "output_type": "display_data",
          "data": {
            "image/png": "[encoded data removed]",
            "text/plain": [
              "<Figure size 432x288 with 1 Axes>"
            ]
          },
          "metadata": {
            "tags": [],
            "needs_background": "light"
          }
        }
      ]
    },
    {
      "cell_type": "code",
      "metadata": {
        "id": "b6xmGye8vQKp"
      },
      "source": [
        "finalDf = pd.concat([principalDf, dfE[['target']]], axis = 1)\r\n",
        "finalDf"
      ],
      "execution_count": null,
      "outputs": []
    },
    {
      "cell_type": "code",
      "metadata": {
        "colab": {
          "base_uri": "https://localhost:8080/",
          "height": 525
        },
        "id": "qQ7uTRRxvftO",
        "outputId": "0f434268-a40e-4776-eb38-a8997831e9c3"
      },
      "source": [
        "fig = plt.figure(figsize = (8,8))\r\n",
        "ax = fig.add_subplot(1,1,1) \r\n",
        "ax.set_xlabel('Principal Component 1', fontsize = 15)\r\n",
        "ax.set_ylabel('Principal Component 2', fontsize = 15)\r\n",
        "ax.set_title('2 component PCA', fontsize = 20)\r\n",
        "targets = ['ZZ', 'Norte','Nordeste','Sudeste','CentroOeste','Sul']\r\n",
        "colors = ['k','r','c', 'g', 'b','m']\r\n",
        "for target, color in zip(targets,colors):\r\n",
        "    indicesToKeep = finalDf['target'] == target\r\n",
        "    ax.scatter(finalDf.loc[indicesToKeep, 'principal component 1']\r\n",
        "               , finalDf.loc[indicesToKeep, 'principal component 2']\r\n",
        "               , c = color\r\n",
        "               , s = 50)\r\n",
        "ax.legend(targets)\r\n",
        "ax.grid()"
      ],
      "execution_count": null,
      "outputs": [
        {
          "output_type": "display_data",
          "data": {
            "image/png": "[encoded data removed]",
            "text/plain": [
              "<Figure size 576x576 with 1 Axes>"
            ]
          },
          "metadata": {
            "tags": [],
            "needs_background": "light"
          }
        }
      ]
    },
    {
      "cell_type": "code",
      "metadata": {
        "id": "S749uVuUxiWL"
      },
      "source": [
        "pca.explained_variance_ratio_"
      ],
      "execution_count": null,
      "outputs": []
    },
    {
      "cell_type": "markdown",
      "metadata": {
        "id": "din2DSpxIy_t"
      },
      "source": [
        "## **Estudo dos dados socioeconômicos brasileiro do banco de dados do Banco Mundial para futuro estudo e comparação com as Eleições no período de 1998-2018:**\r\n",
        "---\r\n",
        "## **Study of Brazilian socioeconomic data from the World Bank database for future study and comparison with the Elections in the period 1998-2018:**"
      ]
    },
    {
      "cell_type": "code",
      "metadata": {
        "colab": {
          "base_uri": "https://localhost:8080/",
          "height": 915
        },
        "id": "M_jheWpgISiC",
        "outputId": "18b4660e-7390-430e-c995-d47ebfc1481a"
      },
      "source": [
        "import pandas as pd\r\n",
        "\r\n",
        "dfWB = pd.read_csv('API_BRA_DS2_pt_csv_v2_1819781(ok).csv',quotechar='\"', decimal=\",\",sep=';', encoding= 'utf-8')\r\n",
        "#dfE.astype(float)\r\n",
        "#names= ['Percent_98','Percent_02','Percent_06','Percent_10','Percent_14','Percent_18','target']''' \r\n",
        "dfWB[['Indicator Name','1997','2001','2005','2009','2013','2017']]"
      ],
      "execution_count": null,
      "outputs": [
        {
          "output_type": "execute_result",
          "data": {
            "text/html": [
              "<div>\n",
              "<style scoped>\n",
              "    .dataframe tbody tr th:only-of-type {\n",
              "        vertical-align: middle;\n",
              "    }\n",
              "\n",
              "    .dataframe tbody tr th {\n",
              "        vertical-align: top;\n",
              "    }\n",
              "\n",
              "    .dataframe thead th {\n",
              "        text-align: right;\n",
              "    }\n",
              "</style>\n",
              "<table border=\"1\" class=\"dataframe\">\n",
              "  <thead>\n",
              "    <tr style=\"text-align: right;\">\n",
              "      <th></th>\n",
              "      <th>Indicator Name</th>\n",
              "      <th>1997</th>\n",
              "      <th>2001</th>\n",
              "      <th>2005</th>\n",
              "      <th>2009</th>\n",
              "      <th>2013</th>\n",
              "      <th>2017</th>\n",
              "    </tr>\n",
              "  </thead>\n",
              "  <tbody>\n",
              "    <tr>\n",
              "      <th>0</th>\n",
              "      <td>Exportações de alta tecnologia (% de exportaçõ...</td>\n",
              "      <td>NaN</td>\n",
              "      <td>NaN</td>\n",
              "      <td>NaN</td>\n",
              "      <td>141.561.829.624.485</td>\n",
              "      <td>10.431.530.300.605</td>\n",
              "      <td>133.129.032.206.298</td>\n",
              "    </tr>\n",
              "    <tr>\n",
              "      <th>1</th>\n",
              "      <td>Índice de termos de permuta líquida (2000 = 100)</td>\n",
              "      <td>1.144.230.769</td>\n",
              "      <td>998.237.338</td>\n",
              "      <td>9.875.548.329</td>\n",
              "      <td>1.072.763.469</td>\n",
              "      <td>1.237.562.524</td>\n",
              "      <td>1.159.902.204</td>\n",
              "    </tr>\n",
              "    <tr>\n",
              "      <th>2</th>\n",
              "      <td>Comércio de mercadorias (% do PIB)</td>\n",
              "      <td>13.274.009.254.352</td>\n",
              "      <td>208.571.294.982.993</td>\n",
              "      <td>219.998.161.799.279</td>\n",
              "      <td>171.966.765.375.445</td>\n",
              "      <td>199.202.774.804.426</td>\n",
              "      <td>181.925.708.719.265</td>\n",
              "    </tr>\n",
              "    <tr>\n",
              "      <th>3</th>\n",
              "      <td>População, total</td>\n",
              "      <td>167209040</td>\n",
              "      <td>177196054</td>\n",
              "      <td>186127103</td>\n",
              "      <td>193886508</td>\n",
              "      <td>201035903</td>\n",
              "      <td>207833831</td>\n",
              "    </tr>\n",
              "    <tr>\n",
              "      <th>4</th>\n",
              "      <td>Crescimento da população (anual %)</td>\n",
              "      <td>156.372.474.049.748</td>\n",
              "      <td>136.695.707.635.304</td>\n",
              "      <td>114.588.099.838.722</td>\n",
              "      <td>0.961948263</td>\n",
              "      <td>0.873603191</td>\n",
              "      <td>0.807147162</td>\n",
              "    </tr>\n",
              "    <tr>\n",
              "      <th>...</th>\n",
              "      <td>...</td>\n",
              "      <td>...</td>\n",
              "      <td>...</td>\n",
              "      <td>...</td>\n",
              "      <td>...</td>\n",
              "      <td>...</td>\n",
              "      <td>...</td>\n",
              "    </tr>\n",
              "    <tr>\n",
              "      <th>57</th>\n",
              "      <td>Remessas pessoais, recebidas (US$ atual)</td>\n",
              "      <td>1572000000</td>\n",
              "      <td>1448914000</td>\n",
              "      <td>2805358000</td>\n",
              "      <td>2889159500</td>\n",
              "      <td>2717675069</td>\n",
              "      <td>2698770651</td>\n",
              "    </tr>\n",
              "    <tr>\n",
              "      <th>58</th>\n",
              "      <td>Investimento estrangeiro direto, ingressos líq...</td>\n",
              "      <td>19650000000</td>\n",
              "      <td>23.225.846.372.251</td>\n",
              "      <td>154.599.816.041.196</td>\n",
              "      <td>31480932200</td>\n",
              "      <td>75211028087</td>\n",
              "      <td>68885072606</td>\n",
              "    </tr>\n",
              "    <tr>\n",
              "      <th>59</th>\n",
              "      <td>Superfície (km²)</td>\n",
              "      <td>8515770</td>\n",
              "      <td>8515770</td>\n",
              "      <td>8515770</td>\n",
              "      <td>8515770</td>\n",
              "      <td>8515770</td>\n",
              "      <td>8515770</td>\n",
              "    </tr>\n",
              "    <tr>\n",
              "      <th>60</th>\n",
              "      <td>Área florestal (km²)</td>\n",
              "      <td>5.289.033.125</td>\n",
              "      <td>5183660</td>\n",
              "      <td>5067340</td>\n",
              "      <td>5.001.131.875</td>\n",
              "      <td>4955060</td>\n",
              "      <td>NaN</td>\n",
              "    </tr>\n",
              "    <tr>\n",
              "      <th>61</th>\n",
              "      <td>Terra cultivável (% de área terrestre)</td>\n",
              "      <td>310.554.740.648.039</td>\n",
              "      <td>315.219.654.133.575</td>\n",
              "      <td>325.948.828.028.724</td>\n",
              "      <td>327.273.771.437.186</td>\n",
              "      <td>334.478.723.735.185</td>\n",
              "      <td>NaN</td>\n",
              "    </tr>\n",
              "  </tbody>\n",
              "</table>\n",
              "<p>62 rows × 7 columns</p>\n",
              "</div>"
            ],
            "text/plain": [
              "                                       Indicator Name                 1997  \\\n",
              "0   Exportações de alta tecnologia (% de exportaçõ...                  NaN   \n",
              "1    Índice de termos de permuta líquida (2000 = 100)        1.144.230.769   \n",
              "2                  Comércio de mercadorias (% do PIB)   13.274.009.254.352   \n",
              "3                                    População, total            167209040   \n",
              "4                  Crescimento da população (anual %)  156.372.474.049.748   \n",
              "..                                                ...                  ...   \n",
              "57           Remessas pessoais, recebidas (US$ atual)           1572000000   \n",
              "58  Investimento estrangeiro direto, ingressos líq...          19650000000   \n",
              "59                                   Superfície (km²)              8515770   \n",
              "60                               Área florestal (km²)        5.289.033.125   \n",
              "61             Terra cultivável (% de área terrestre)  310.554.740.648.039   \n",
              "\n",
              "                   2001                 2005                 2009  \\\n",
              "0                   NaN                  NaN  141.561.829.624.485   \n",
              "1           998.237.338        9.875.548.329        1.072.763.469   \n",
              "2   208.571.294.982.993  219.998.161.799.279  171.966.765.375.445   \n",
              "3             177196054            186127103            193886508   \n",
              "4   136.695.707.635.304  114.588.099.838.722          0.961948263   \n",
              "..                  ...                  ...                  ...   \n",
              "57           1448914000           2805358000           2889159500   \n",
              "58   23.225.846.372.251  154.599.816.041.196          31480932200   \n",
              "59              8515770              8515770              8515770   \n",
              "60              5183660              5067340        5.001.131.875   \n",
              "61  315.219.654.133.575  325.948.828.028.724  327.273.771.437.186   \n",
              "\n",
              "                   2013                 2017  \n",
              "0    10.431.530.300.605  133.129.032.206.298  \n",
              "1         1.237.562.524        1.159.902.204  \n",
              "2   199.202.774.804.426  181.925.708.719.265  \n",
              "3             201035903            207833831  \n",
              "4           0.873603191          0.807147162  \n",
              "..                  ...                  ...  \n",
              "57           2717675069           2698770651  \n",
              "58          75211028087          68885072606  \n",
              "59              8515770              8515770  \n",
              "60              4955060                  NaN  \n",
              "61  334.478.723.735.185                  NaN  \n",
              "\n",
              "[62 rows x 7 columns]"
            ]
          },
          "metadata": {
            "tags": []
          },
          "execution_count": 74
        }
      ]
    },
    {
      "cell_type": "code",
      "metadata": {
        "id": "0f7MxppNMJCj"
      },
      "source": [
        "dfWB_eco = dfWB['Indicator Name'].str.contains('PIB')\r\n",
        "dfWB_eco.head()\r\n",
        "dfWB_eco = dfWB[dfWB_eco]\r\n",
        "dfWB_eco.shape\r\n",
        "dfWB_eco[['Indicator Name','1998','2002','2006','2010','2014','2018','2019','2020']]"
      ],
      "execution_count": null,
      "outputs": []
    },
    {
      "cell_type": "code",
      "metadata": {
        "colab": {
          "base_uri": "https://localhost:8080/",
          "height": 134
        },
        "id": "an6BGDcjNMxI",
        "outputId": "f4756be6-4f85-4438-fb06-966a2ba32830"
      },
      "source": [
        "dfWB_eco_PIBnac = dfWB_eco['Indicator Name'].str.contains('PIB,')\r\n",
        "dfWB_eco_PIBnac.head()\r\n",
        "dfWB_eco_PIBnac = dfWB_eco[dfWB_eco_PIBnac]      \r\n",
        "dfWB_eco_PIBnac.shape\r\n",
        "dfWB_eco_PIBnac[['Indicator Name','1997','2001','2005','2009','2013','2017','2018','2019']]                       "
      ],
      "execution_count": null,
      "outputs": [
        {
          "output_type": "execute_result",
          "data": {
            "text/html": [
              "<div>\n",
              "<style scoped>\n",
              "    .dataframe tbody tr th:only-of-type {\n",
              "        vertical-align: middle;\n",
              "    }\n",
              "\n",
              "    .dataframe tbody tr th {\n",
              "        vertical-align: top;\n",
              "    }\n",
              "\n",
              "    .dataframe thead th {\n",
              "        text-align: right;\n",
              "    }\n",
              "</style>\n",
              "<table border=\"1\" class=\"dataframe\">\n",
              "  <thead>\n",
              "    <tr style=\"text-align: right;\">\n",
              "      <th></th>\n",
              "      <th>Indicator Name</th>\n",
              "      <th>1997</th>\n",
              "      <th>2001</th>\n",
              "      <th>2005</th>\n",
              "      <th>2009</th>\n",
              "      <th>2013</th>\n",
              "      <th>2017</th>\n",
              "      <th>2018</th>\n",
              "      <th>2019</th>\n",
              "    </tr>\n",
              "  </thead>\n",
              "  <tbody>\n",
              "    <tr>\n",
              "      <th>34</th>\n",
              "      <td>PIB, (US$ atual)</td>\n",
              "      <td>883.199.625.324.675</td>\n",
              "      <td>559.372.276.081.966</td>\n",
              "      <td>891.630.177.251.068</td>\n",
              "      <td>1.66702E+12</td>\n",
              "      <td>2.47281E+12</td>\n",
              "      <td>2.06283E+12</td>\n",
              "      <td>1.88548E+12</td>\n",
              "      <td>1.83976E+12</td>\n",
              "    </tr>\n",
              "  </tbody>\n",
              "</table>\n",
              "</div>"
            ],
            "text/plain": [
              "      Indicator Name                 1997                 2001  \\\n",
              "34  PIB, (US$ atual)  883.199.625.324.675  559.372.276.081.966   \n",
              "\n",
              "                   2005         2009         2013         2017         2018  \\\n",
              "34  891.630.177.251.068  1.66702E+12  2.47281E+12  2.06283E+12  1.88548E+12   \n",
              "\n",
              "           2019  \n",
              "34  1.83976E+12  "
            ]
          },
          "metadata": {
            "tags": []
          },
          "execution_count": 78
        }
      ]
    },
    {
      "cell_type": "code",
      "metadata": {
        "colab": {
          "base_uri": "https://localhost:8080/",
          "height": 185
        },
        "id": "4UtebzWwfhl0",
        "outputId": "d55a4751-2744-4a15-dc25-bb6a9c86580f"
      },
      "source": [
        "dfWB_eco_PIBint = dfWB_eco['Indicator Name'].str.contains('PPP')\r\n",
        "dfWB_eco_PIBint.head()\r\n",
        "dfWB_eco_PIBint = dfWB_eco[dfWB_eco_PIBint]      \r\n",
        "dfWB_eco_PIBint.shape\r\n",
        "dfWB_eco_PIBint[['Indicator Name','1998','2002','2006','2010','2014','2017','2018','2019']]    "
      ],
      "execution_count": null,
      "outputs": [
        {
          "output_type": "execute_result",
          "data": {
            "text/html": [
              "<div>\n",
              "<style scoped>\n",
              "    .dataframe tbody tr th:only-of-type {\n",
              "        vertical-align: middle;\n",
              "    }\n",
              "\n",
              "    .dataframe tbody tr th {\n",
              "        vertical-align: top;\n",
              "    }\n",
              "\n",
              "    .dataframe thead th {\n",
              "        text-align: right;\n",
              "    }\n",
              "</style>\n",
              "<table border=\"1\" class=\"dataframe\">\n",
              "  <thead>\n",
              "    <tr style=\"text-align: right;\">\n",
              "      <th></th>\n",
              "      <th>Indicator Name</th>\n",
              "      <th>1998</th>\n",
              "      <th>2002</th>\n",
              "      <th>2006</th>\n",
              "      <th>2010</th>\n",
              "      <th>2014</th>\n",
              "      <th>2017</th>\n",
              "      <th>2018</th>\n",
              "      <th>2019</th>\n",
              "    </tr>\n",
              "  </thead>\n",
              "  <tbody>\n",
              "    <tr>\n",
              "      <th>31</th>\n",
              "      <td>PIB per capita, PPP ($ internacional atual)</td>\n",
              "      <td>857.587.351.669.118</td>\n",
              "      <td>956.806.384.730.739</td>\n",
              "      <td>1.164.244.394.693</td>\n",
              "      <td>142.995.516.973.717</td>\n",
              "      <td>157.185.656.477.083</td>\n",
              "      <td>145.198.491.302.518</td>\n",
              "      <td>149.406.726.059.252</td>\n",
              "      <td>152.588.508.327.006</td>\n",
              "    </tr>\n",
              "  </tbody>\n",
              "</table>\n",
              "</div>"
            ],
            "text/plain": [
              "                                 Indicator Name                 1998  \\\n",
              "31  PIB per capita, PPP ($ internacional atual)  857.587.351.669.118   \n",
              "\n",
              "                   2002               2006                 2010  \\\n",
              "31  956.806.384.730.739  1.164.244.394.693  142.995.516.973.717   \n",
              "\n",
              "                   2014                 2017                 2018  \\\n",
              "31  157.185.656.477.083  145.198.491.302.518  149.406.726.059.252   \n",
              "\n",
              "                   2019  \n",
              "31  152.588.508.327.006  "
            ]
          },
          "metadata": {
            "tags": []
          },
          "execution_count": 84
        }
      ]
    },
    {
      "cell_type": "code",
      "metadata": {
        "colab": {
          "base_uri": "https://localhost:8080/",
          "height": 980
        },
        "id": "h1QpsmwPQwgy",
        "outputId": "2cee5d8c-8871-4f21-bcfb-3e521e273fc5"
      },
      "source": [
        "import seaborn as sns\r\n",
        "import numpy as np\r\n",
        "import matplotlib.pyplot as plt\r\n",
        "\r\n",
        "sns.set()\r\n",
        "\r\n",
        "dfWB_eco_pib = dfWB_eco_PIBnac.drop(labels=['Indicator Name','Country Name','Country Code', 'Indicator Code'], axis=1)\r\n",
        "dfWB_eco_pib = dfWB_eco_pib.stack().str.replace('.','').unstack()\r\n",
        "\r\n",
        "dfWB_eco_pib = dfWB_eco_pib.astype(float)\r\n",
        "\r\n",
        "row = dfWB_eco_pib.loc[:,'1998':'2005']\r\n",
        "row.plot(kind='bar',figsize=(6,3))\r\n",
        "plt.xlabel('Ano')\r\n",
        "plt.ylabel('PIB anual')\r\n",
        "\r\n",
        "row1 = dfWB_eco_pib.loc[:,'2006':'2012']\r\n",
        "row1.plot(kind='bar',figsize=(6,3))\r\n",
        "plt.xlabel('Ano')\r\n",
        "plt.ylabel('PIB anual')\r\n",
        "\r\n",
        "row2 = dfWB_eco_pib.loc[:,'2012':'2020']\r\n",
        "row2.plot(kind='bar',figsize=(6,3))\r\n",
        "plt.xlabel('Ano')\r\n",
        "plt.ylabel('PIB anual')\r\n",
        "plt.show()\r\n",
        "\r\n",
        "rowI = dfWB_eco_pib.loc[:,'2005':'2020']\r\n",
        "rowI.boxplot(figsize=(16,4))\r\n",
        "#dfWB_eco_pib.loc[:,'1997':'2019'].boxplot(figsize=(20,10))"
      ],
      "execution_count": null,
      "outputs": [
        {
          "output_type": "display_data",
          "data": {
            "image/png": "[encoded data removed]",
            "text/plain": [
              "<Figure size 432x216 with 1 Axes>"
            ]
          },
          "metadata": {
            "tags": []
          }
        },
        {
          "output_type": "display_data",
          "data": {
            "image/png": "[encoded data removed]",
            "text/plain": [
              "<Figure size 432x216 with 1 Axes>"
            ]
          },
          "metadata": {
            "tags": []
          }
        },
        {
          "output_type": "display_data",
          "data": {
            "image/png": "[encoded data removed]",
            "text/plain": [
              "<Figure size 432x216 with 1 Axes>"
            ]
          },
          "metadata": {
            "tags": []
          }
        },
        {
          "output_type": "execute_result",
          "data": {
            "text/plain": [
              "<matplotlib.axes._subplots.AxesSubplot at 0x7f8904aea2e8>"
            ]
          },
          "metadata": {
            "tags": []
          },
          "execution_count": 91
        },
        {
          "output_type": "display_data",
          "data": {
            "image/png": "[encoded data removed]",
            "text/plain": [
              "<Figure size 1152x288 with 1 Axes>"
            ]
          },
          "metadata": {
            "tags": []
          }
        }
      ]
    },
    {
      "cell_type": "code",
      "metadata": {
        "colab": {
          "base_uri": "https://localhost:8080/",
          "height": 296
        },
        "id": "e48jev-4ofL8",
        "outputId": "94ce16fc-f804-4560-b4a8-a2af761b65eb"
      },
      "source": [
        "import seaborn as sns\r\n",
        "\r\n",
        "sns.set()\r\n",
        "anoeleitoralWB = dfWB_eco_pib.T\r\n",
        "anoeleitoralWB.plot(figsize=(8,4))"
      ],
      "execution_count": null,
      "outputs": [
        {
          "output_type": "execute_result",
          "data": {
            "text/plain": [
              "<matplotlib.axes._subplots.AxesSubplot at 0x7f8902677630>"
            ]
          },
          "metadata": {
            "tags": []
          },
          "execution_count": 118
        },
        {
          "output_type": "display_data",
          "data": {
            "image/png": "[encoded data removed]",
            "text/plain": [
              "<Figure size 576x288 with 1 Axes>"
            ]
          },
          "metadata": {
            "tags": []
          }
        }
      ]
    },
    {
      "cell_type": "markdown",
      "metadata": {
        "id": "TI5q1sMevqqi"
      },
      "source": [
        "Gráfico em barras da População Total Brasileira 1960 - 2020:"
      ]
    },
    {
      "cell_type": "code",
      "metadata": {
        "id": "LuKRWh_bsL54"
      },
      "source": [
        "dfPopTotal = dfWB['Indicator Name'].str.contains('População')\r\n",
        "dfPopTotal.head()\r\n",
        "dfPopTotal = dfWB[dfPopTotal]\r\n",
        "dfPopT = dfPopTotal.drop(labels=['Indicator Name','Country Name','Country Code', 'Indicator Code'], axis=1)\r\n",
        "\r\n",
        "sns.set()\r\n",
        "\r\n",
        "dfPopTot = dfPopT.stack().str.replace('.','').unstack()\r\n",
        "dfPopulacao = dfPopTot.astype(np.float64)\r\n",
        "dfPopulacao.plot(kind='bar',figsize=(10,4))\r\n",
        "plt.title('População Brasileira')"
      ],
      "execution_count": null,
      "outputs": []
    },
    {
      "cell_type": "markdown",
      "metadata": {
        "id": "bygezdC3qcLu"
      },
      "source": [
        "- [Apêndice] Uma outra análise de 2018 observando os vencedores em cada Estado e nas capitais federais:"
      ]
    },
    {
      "cell_type": "markdown",
      "metadata": {
        "id": "mQODdgkn2yBd"
      },
      "source": [
        "#2014 vs 2018 2ºTurno\r\n",
        "- Dataset com Vitórias por estado para presidência do Brasil, comparando com a capital do Estado dos anos de 2014 e 2018.\r\n"
      ]
    },
    {
      "cell_type": "code",
      "metadata": {
        "id": "pA5fSBLx3I79"
      },
      "source": [
        "import pandas as pd\r\n",
        "import numpy as np\r\n",
        "import scipy\r\n",
        "\r\n",
        "df = pd.read_csv('voto_presidente2014_porEstado.csv', sep=';', encoding = 'utf-8')\r\n",
        "df"
      ],
      "execution_count": null,
      "outputs": []
    },
    {
      "cell_type": "code",
      "metadata": {
        "id": "zVXzdCnO4-x6"
      },
      "source": [
        "df45 = df['Vencedor no Estado'].str.contains('AÉCIO NEVES')\r\n",
        "df45.head()\r\n",
        "df45 = df[df45]\r\n",
        "print('O número de estados em que AÉCIO venceu: ', df45.shape)\r\n",
        "df45"
      ],
      "execution_count": null,
      "outputs": []
    },
    {
      "cell_type": "code",
      "metadata": {
        "id": "5MqAOusH4_kr"
      },
      "source": [
        "dfdilma = df['Vencedor no Estado'].str.contains('DILMA')\r\n",
        "dfdilma.head()\r\n",
        "dfdilma = df[dfdilma]\r\n",
        "print('O número de estados em que DILMA venceu: ', dfdilma.shape)\r\n",
        "dfdilma"
      ],
      "execution_count": null,
      "outputs": []
    },
    {
      "cell_type": "code",
      "metadata": {
        "id": "xtGpNqFd5VEQ"
      },
      "source": [
        "import pandas as pd\r\n",
        "import numpy as np\r\n",
        "import scipy\r\n",
        "\r\n",
        "df = pd.read_csv('voto_presidente2018_porEstado.csv', sep=';', encoding = 'utf-8')\r\n",
        "df"
      ],
      "execution_count": null,
      "outputs": []
    },
    {
      "cell_type": "code",
      "metadata": {
        "id": "jnW-ubi35Z9Z"
      },
      "source": [
        "df17 = df['Vencedor no Estado'].str.contains('JAIR')\r\n",
        "df17.head()\r\n",
        "df17 = df[df17]\r\n",
        "print('O número de estados em que BOLSONARO venceu: ', df17.shape)\r\n",
        "df17"
      ],
      "execution_count": null,
      "outputs": []
    },
    {
      "cell_type": "code",
      "metadata": {
        "id": "pJLLEbFk5qcA"
      },
      "source": [
        "df13 = df['Vencedor no Estado'].str.contains('HADDAD')\r\n",
        "df13.head()\r\n",
        "df13 = df[df13]\r\n",
        "print('O número de estados em que HADDAD venceu: ', df13.shape)\r\n",
        "df13"
      ],
      "execution_count": null,
      "outputs": []
    },
    {
      "cell_type": "markdown",
      "metadata": {
        "id": "q5IqFByO6FvC"
      },
      "source": [
        ""
      ]
    },
    {
      "cell_type": "code",
      "metadata": {
        "id": "yWZNL1c26wub"
      },
      "source": [
        "print(dfdilma)\r\n",
        "print(df13)"
      ],
      "execution_count": null,
      "outputs": []
    },
    {
      "cell_type": "code",
      "metadata": {
        "id": "AztGl_A5-20e"
      },
      "source": [
        "print(dfdilma[['% votos (capital)','Capital']])\r\n",
        "print(df13[['% votos (capital)','Capital']])\r\n",
        "mergedPT = pd.merge(dfdilma, df13, on=['Capital'],how='inner')\r\n",
        "mergedPT.head()"
      ],
      "execution_count": null,
      "outputs": []
    },
    {
      "cell_type": "markdown",
      "metadata": {
        "id": "7gXBHoa09fzc"
      },
      "source": [
        "- Pela comparação das tabelas sabemos que o PT perdeu em 2018 a maioria em 4 estados:\r\n",
        " - Amapá, Amazonas, Minas Gerais, Rio de Janeiro.\r\n",
        "\r\n",
        "\r\n",
        "- Já a comparação dos estados em que se mantiveram vencedores é apresentada abaixo, comparando todos os números de votos:"
      ]
    },
    {
      "cell_type": "code",
      "metadata": {
        "id": "L8IK9q7s6GEb"
      },
      "source": [
        "mergedPT = pd.merge(dfdilma, df13, on=['Estado'],how='inner')\r\n",
        "mergedPT.head()\r\n",
        "print(mergedPT.shape)\r\n",
        "mergedPT"
      ],
      "execution_count": null,
      "outputs": []
    },
    {
      "cell_type": "markdown",
      "metadata": {
        "id": "mUIj7oKmJ2jm"
      },
      "source": [
        "De todos estes Estados vamos considerar como 'seguros' para PT/esquerda, aqueles que apresentam porcentagem de votos no Estado  >= 60% e votos na Capital >=40%"
      ]
    },
    {
      "cell_type": "code",
      "metadata": {
        "id": "VU8E3uRGJ1sA"
      },
      "source": [
        "dfSeguroPT = mergedPT['% votos (Estado)_y'] >=60.0\r\n",
        "dfSeguroPT.head()\r\n",
        "dfSeguroPT = mergedPT[dfSeguroPT]\r\n",
        "dfSeguroPT1 = dfSeguroPT['% votos (capital)_y']>= 40.0\r\n",
        "dfSeguroPT1 = dfSeguroPT[dfSeguroPT1]\r\n",
        "print('De 11 estados em que PT ganhou, temos como \"seguro\" : ' ,dfSeguroPT1.shape)\r\n",
        "dfSeguroPT1"
      ],
      "execution_count": null,
      "outputs": []
    },
    {
      "cell_type": "markdown",
      "metadata": {
        "id": "ifHU-dmg98Cx"
      },
      "source": [
        "Destes estados em comum, Dilma somente perdeu para Aécio na capital Belém. Entretanto Haddad perdeu também em Macei, João Pessoa e Natal.\r\n",
        "Ou seja, os estados 'seguros' de eleitorado do PT são os acima, porém as capitais seguras passaram de 8 para 5.\r\n",
        " - Salvador, São Luis, Fortaleza, *Recife*, Teresina e *Aracaju*.\r\n",
        "\r\n"
      ]
    },
    {
      "cell_type": "code",
      "metadata": {
        "id": "xdTCRoEr-C1p"
      },
      "source": [
        "print(df17)\r\n",
        "print(df45)"
      ],
      "execution_count": null,
      "outputs": []
    },
    {
      "cell_type": "markdown",
      "metadata": {
        "id": "CaaO4xkl-oZ1"
      },
      "source": [
        "Em comparação a Aécio 2014 x Bolsonaro 2018, reparamos que Bolsonaro ganhou em todos Estados que Aécio havia maioria e mais 4 que foram citados acima em Dilma x Haddad e estão representados abaixo:"
      ]
    },
    {
      "cell_type": "code",
      "metadata": {
        "id": "72-7QL8DCHCs"
      },
      "source": [
        "mergedPTBolso = pd.merge(dfdilma, df17, on=['Estado'],how='inner')\r\n",
        "mergedPTBolso.head()\r\n",
        "mergedPTBolso"
      ],
      "execution_count": null,
      "outputs": []
    },
    {
      "cell_type": "markdown",
      "metadata": {
        "id": "WaCgmh9sCZef"
      },
      "source": [
        "Comparando ambos anos de 2014 e 2018, pelo dataset podemos considerar ***os estados acima como os mais indecisos para 2022.***\r\n",
        "- Pois todos mudaram de opção de voto de 2014 -> PT para 2018 -> Bolsonaro (partido??)\r\n",
        "\r\n"
      ]
    },
    {
      "cell_type": "code",
      "metadata": {
        "id": "WMZJYLIP-it3"
      },
      "source": [
        "merged17 = pd.merge(df45, df17, on=['Estado'],how='inner')\r\n",
        "merged17.head()\r\n",
        "merged17"
      ],
      "execution_count": null,
      "outputs": []
    },
    {
      "cell_type": "markdown",
      "metadata": {
        "id": "MEHe45s7OM_3"
      },
      "source": [
        "De todos estes Estados vamos considerar como 'seguros' para PT/esquerda, aqueles que apresentam porcentagem de votos no Estado  >= 60% e votos na Capital >=40%"
      ]
    },
    {
      "cell_type": "code",
      "metadata": {
        "id": "NYKgzI1oOfhV"
      },
      "source": [
        "dfSeguroPT = mergedPT['% votos (Estado)_y'] >=60.0\r\n",
        "dfSeguroPT.head()\r\n",
        "dfSeguroPT = mergedPT[dfSeguroPT]\r\n",
        "dfSeguroPT1 = dfSeguroPT['% votos (capital)_y']>= 40.0\r\n",
        "dfSeguroPT1 = dfSeguroPT[dfSeguroPT1]\r\n",
        "print('De 11 estados em que PT ganhou, temos como \"seguro\" : ' ,dfSeguroPT1.shape)\r\n",
        "dfSeguroPT1"
      ],
      "execution_count": null,
      "outputs": []
    },
    {
      "cell_type": "code",
      "metadata": {
        "id": "D4W2vMrZI1xN"
      },
      "source": [
        "merged = pd.merge(merged17, mergedPT, on=['Estado'],how='inner')\r\n",
        "merged.head()\r\n",
        "merged"
      ],
      "execution_count": null,
      "outputs": []
    },
    {
      "cell_type": "markdown",
      "metadata": {
        "id": "PABrVpYKCTPI"
      },
      "source": [
        "Comparando ambos anos de 2014 e 2018 entre Aécio e Bolsonaro, pelo dataset podemos considerar ***os estados acima como os estados mais 'seguros' de se manter uma reeleição de Bolsonaro em 2022. ***"
      ]
    },
    {
      "cell_type": "code",
      "metadata": {
        "id": "MfJI_lK-Dg3A"
      },
      "source": [
        "# Delete rows with index label a & b    \r\n",
        "modDf = df.drop(['' , 'b'])"
      ],
      "execution_count": null,
      "outputs": []
    },
    {
      "cell_type": "markdown",
      "metadata": {
        "id": "QRPgYUfXJX-B"
      },
      "source": [
        "#### this dataset is a long study process and is still on working, but is disponible at GitHub while in the main construction process.\r\n",
        "\r\n",
        "[to be continued...]"
      ]
    }
  ]
}